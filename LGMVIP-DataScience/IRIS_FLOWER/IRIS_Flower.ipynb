{
  "cells": [
    {
      "cell_type": "markdown",
      "source": [
        "#Importing the required Libraries and Packages"
      ],
      "metadata": {
        "id": "RpEIIamTXOEw"
      },
      "id": "RpEIIamTXOEw"
    },
    {
      "cell_type": "code",
      "execution_count": null,
      "id": "a15f8382",
      "metadata": {
        "id": "a15f8382"
      },
      "outputs": [],
      "source": [
        "import pandas as pd\n",
        "import numpy as np\n",
        "import matplotlib.pyplot as plt\n",
        "import seaborn as sns\n",
        "%matplotlib inline\n",
        "import warnings\n",
        "warnings.filterwarnings('ignore')"
      ]
    },
    {
      "cell_type": "markdown",
      "source": [
        "#Dataset Description\n",
        "The data set contains 3 classes of 50 instances each, where each class refers to a type of iris plant. One class is linearly separable from the other 2; the latter are NOT linearly separable from each other.\n",
        "\n",
        "#Attribute Information:\n",
        "\n",
        "Sepal_length in cm\n",
        "Sepal_width in cm\n",
        "Petal_length in cm\n",
        "Petal_width in cm \n",
        "\n",
        "Iris flower can be divided into 3 species as per the length and width of their Sepals and Petals:\n",
        "\n",
        "1) Iris Setosa\n",
        "2) Iris Versicolour\n",
        "3) Iris Virginica"
      ],
      "metadata": {
        "id": "MO_xmBY-XYvD"
      },
      "id": "MO_xmBY-XYvD"
    },
    {
      "cell_type": "markdown",
      "source": [
        "#Loading the dataset\n",
        "importing the dataset using pandas read_csv command"
      ],
      "metadata": {
        "id": "dUz_wY0FX1JN"
      },
      "id": "dUz_wY0FX1JN"
    },
    {
      "cell_type": "code",
      "execution_count": null,
      "id": "1a6d713f",
      "metadata": {
        "id": "1a6d713f"
      },
      "outputs": [],
      "source": [
        "df = pd.read_csv(\"D:\\INTERNSHIP\\DATASCIEENCE\\IRIS.csv\")"
      ]
    },
    {
      "cell_type": "markdown",
      "source": [
        "#Data Preprocessing\n"
      ],
      "metadata": {
        "id": "joVc_1I4YT51"
      },
      "id": "joVc_1I4YT51"
    },
    {
      "cell_type": "code",
      "execution_count": null,
      "id": "0e87e8bc",
      "metadata": {
        "id": "0e87e8bc",
        "outputId": "def6bbd8-982d-481b-b9b5-dc60525f308e"
      },
      "outputs": [
        {
          "data": {
            "text/html": [
              "<div>\n",
              "<style scoped>\n",
              "    .dataframe tbody tr th:only-of-type {\n",
              "        vertical-align: middle;\n",
              "    }\n",
              "\n",
              "    .dataframe tbody tr th {\n",
              "        vertical-align: top;\n",
              "    }\n",
              "\n",
              "    .dataframe thead th {\n",
              "        text-align: right;\n",
              "    }\n",
              "</style>\n",
              "<table border=\"1\" class=\"dataframe\">\n",
              "  <thead>\n",
              "    <tr style=\"text-align: right;\">\n",
              "      <th></th>\n",
              "      <th>sepal_length</th>\n",
              "      <th>sepal_width</th>\n",
              "      <th>petal_length</th>\n",
              "      <th>petal_width</th>\n",
              "      <th>species</th>\n",
              "    </tr>\n",
              "  </thead>\n",
              "  <tbody>\n",
              "    <tr>\n",
              "      <th>0</th>\n",
              "      <td>5.1</td>\n",
              "      <td>3.5</td>\n",
              "      <td>1.4</td>\n",
              "      <td>0.2</td>\n",
              "      <td>Iris-setosa</td>\n",
              "    </tr>\n",
              "    <tr>\n",
              "      <th>1</th>\n",
              "      <td>4.9</td>\n",
              "      <td>3.0</td>\n",
              "      <td>1.4</td>\n",
              "      <td>0.2</td>\n",
              "      <td>Iris-setosa</td>\n",
              "    </tr>\n",
              "    <tr>\n",
              "      <th>2</th>\n",
              "      <td>4.7</td>\n",
              "      <td>3.2</td>\n",
              "      <td>1.3</td>\n",
              "      <td>0.2</td>\n",
              "      <td>Iris-setosa</td>\n",
              "    </tr>\n",
              "    <tr>\n",
              "      <th>3</th>\n",
              "      <td>4.6</td>\n",
              "      <td>3.1</td>\n",
              "      <td>1.5</td>\n",
              "      <td>0.2</td>\n",
              "      <td>Iris-setosa</td>\n",
              "    </tr>\n",
              "    <tr>\n",
              "      <th>4</th>\n",
              "      <td>5.0</td>\n",
              "      <td>3.6</td>\n",
              "      <td>1.4</td>\n",
              "      <td>0.2</td>\n",
              "      <td>Iris-setosa</td>\n",
              "    </tr>\n",
              "  </tbody>\n",
              "</table>\n",
              "</div>"
            ],
            "text/plain": [
              "   sepal_length  sepal_width  petal_length  petal_width      species\n",
              "0           5.1          3.5           1.4          0.2  Iris-setosa\n",
              "1           4.9          3.0           1.4          0.2  Iris-setosa\n",
              "2           4.7          3.2           1.3          0.2  Iris-setosa\n",
              "3           4.6          3.1           1.5          0.2  Iris-setosa\n",
              "4           5.0          3.6           1.4          0.2  Iris-setosa"
            ]
          },
          "execution_count": 4,
          "metadata": {},
          "output_type": "execute_result"
        }
      ],
      "source": [
        "df.head()   "
      ]
    },
    {
      "cell_type": "code",
      "execution_count": null,
      "id": "4a38bcc3",
      "metadata": {
        "id": "4a38bcc3",
        "outputId": "19186d32-f740-46b6-bf2f-d357534554fa"
      },
      "outputs": [
        {
          "data": {
            "text/plain": [
              "(150, 5)"
            ]
          },
          "execution_count": 5,
          "metadata": {},
          "output_type": "execute_result"
        }
      ],
      "source": [
        "df.shape   #Shape of dataset"
      ]
    },
    {
      "cell_type": "code",
      "execution_count": null,
      "id": "b424e9ea",
      "metadata": {
        "id": "b424e9ea",
        "outputId": "118685b9-f7c6-4ef6-b781-e78c230d4303"
      },
      "outputs": [
        {
          "data": {
            "text/plain": [
              "Index(['sepal_length', 'sepal_width', 'petal_length', 'petal_width',\n",
              "       'species'],\n",
              "      dtype='object')"
            ]
          },
          "execution_count": 6,
          "metadata": {},
          "output_type": "execute_result"
        }
      ],
      "source": [
        "df.columns    #dataset columns"
      ]
    },
    {
      "cell_type": "code",
      "execution_count": null,
      "id": "04210049",
      "metadata": {
        "id": "04210049",
        "outputId": "479e4a5f-6a1c-4c06-8758-98412883d479"
      },
      "outputs": [
        {
          "name": "stdout",
          "output_type": "stream",
          "text": [
            "<class 'pandas.core.frame.DataFrame'>\n",
            "RangeIndex: 150 entries, 0 to 149\n",
            "Data columns (total 5 columns):\n",
            " #   Column        Non-Null Count  Dtype  \n",
            "---  ------        --------------  -----  \n",
            " 0   sepal_length  150 non-null    float64\n",
            " 1   sepal_width   150 non-null    float64\n",
            " 2   petal_length  150 non-null    float64\n",
            " 3   petal_width   150 non-null    float64\n",
            " 4   species       150 non-null    object \n",
            "dtypes: float64(4), object(1)\n",
            "memory usage: 6.0+ KB\n"
          ]
        }
      ],
      "source": [
        "df.info()    #dataset summary"
      ]
    },
    {
      "cell_type": "code",
      "execution_count": null,
      "id": "4b3b4309",
      "metadata": {
        "id": "4b3b4309",
        "outputId": "f69c2cf0-e261-4d52-8c87-59f8e9b856aa"
      },
      "outputs": [
        {
          "data": {
            "text/html": [
              "<div>\n",
              "<style scoped>\n",
              "    .dataframe tbody tr th:only-of-type {\n",
              "        vertical-align: middle;\n",
              "    }\n",
              "\n",
              "    .dataframe tbody tr th {\n",
              "        vertical-align: top;\n",
              "    }\n",
              "\n",
              "    .dataframe thead th {\n",
              "        text-align: right;\n",
              "    }\n",
              "</style>\n",
              "<table border=\"1\" class=\"dataframe\">\n",
              "  <thead>\n",
              "    <tr style=\"text-align: right;\">\n",
              "      <th></th>\n",
              "      <th>sepal_length</th>\n",
              "      <th>sepal_width</th>\n",
              "      <th>petal_length</th>\n",
              "      <th>petal_width</th>\n",
              "    </tr>\n",
              "  </thead>\n",
              "  <tbody>\n",
              "    <tr>\n",
              "      <th>count</th>\n",
              "      <td>150.000000</td>\n",
              "      <td>150.000000</td>\n",
              "      <td>150.000000</td>\n",
              "      <td>150.000000</td>\n",
              "    </tr>\n",
              "    <tr>\n",
              "      <th>mean</th>\n",
              "      <td>5.843333</td>\n",
              "      <td>3.054000</td>\n",
              "      <td>3.758667</td>\n",
              "      <td>1.198667</td>\n",
              "    </tr>\n",
              "    <tr>\n",
              "      <th>std</th>\n",
              "      <td>0.828066</td>\n",
              "      <td>0.433594</td>\n",
              "      <td>1.764420</td>\n",
              "      <td>0.763161</td>\n",
              "    </tr>\n",
              "    <tr>\n",
              "      <th>min</th>\n",
              "      <td>4.300000</td>\n",
              "      <td>2.000000</td>\n",
              "      <td>1.000000</td>\n",
              "      <td>0.100000</td>\n",
              "    </tr>\n",
              "    <tr>\n",
              "      <th>25%</th>\n",
              "      <td>5.100000</td>\n",
              "      <td>2.800000</td>\n",
              "      <td>1.600000</td>\n",
              "      <td>0.300000</td>\n",
              "    </tr>\n",
              "    <tr>\n",
              "      <th>50%</th>\n",
              "      <td>5.800000</td>\n",
              "      <td>3.000000</td>\n",
              "      <td>4.350000</td>\n",
              "      <td>1.300000</td>\n",
              "    </tr>\n",
              "    <tr>\n",
              "      <th>75%</th>\n",
              "      <td>6.400000</td>\n",
              "      <td>3.300000</td>\n",
              "      <td>5.100000</td>\n",
              "      <td>1.800000</td>\n",
              "    </tr>\n",
              "    <tr>\n",
              "      <th>max</th>\n",
              "      <td>7.900000</td>\n",
              "      <td>4.400000</td>\n",
              "      <td>6.900000</td>\n",
              "      <td>2.500000</td>\n",
              "    </tr>\n",
              "  </tbody>\n",
              "</table>\n",
              "</div>"
            ],
            "text/plain": [
              "       sepal_length  sepal_width  petal_length  petal_width\n",
              "count    150.000000   150.000000    150.000000   150.000000\n",
              "mean       5.843333     3.054000      3.758667     1.198667\n",
              "std        0.828066     0.433594      1.764420     0.763161\n",
              "min        4.300000     2.000000      1.000000     0.100000\n",
              "25%        5.100000     2.800000      1.600000     0.300000\n",
              "50%        5.800000     3.000000      4.350000     1.300000\n",
              "75%        6.400000     3.300000      5.100000     1.800000\n",
              "max        7.900000     4.400000      6.900000     2.500000"
            ]
          },
          "execution_count": 8,
          "metadata": {},
          "output_type": "execute_result"
        }
      ],
      "source": [
        "df.describe()   #Dataset Statistical Summary"
      ]
    },
    {
      "cell_type": "code",
      "execution_count": null,
      "id": "759e89c8",
      "metadata": {
        "id": "759e89c8",
        "outputId": "b502b98a-0245-4d2d-ca2d-ea7865af78c9"
      },
      "outputs": [
        {
          "data": {
            "text/plain": [
              "sepal_length    0\n",
              "sepal_width     0\n",
              "petal_length    0\n",
              "petal_width     0\n",
              "species         0\n",
              "dtype: int64"
            ]
          },
          "execution_count": 9,
          "metadata": {},
          "output_type": "execute_result"
        }
      ],
      "source": [
        "df.isnull().sum()   #Checking Null Values"
      ]
    },
    {
      "cell_type": "code",
      "execution_count": null,
      "id": "fc77611c",
      "metadata": {
        "id": "fc77611c",
        "outputId": "1ce0638f-d189-44c4-e557-78a752e3bd55"
      },
      "outputs": [
        {
          "data": {
            "text/plain": [
              "Iris-setosa        50\n",
              "Iris-versicolor    50\n",
              "Iris-virginica     50\n",
              "Name: species, dtype: int64"
            ]
          },
          "execution_count": 19,
          "metadata": {},
          "output_type": "execute_result"
        }
      ],
      "source": [
        "df['species'].value_counts()   # To display no. of samples on each class."
      ]
    },
    {
      "cell_type": "code",
      "execution_count": null,
      "id": "f0a2a75b",
      "metadata": {
        "id": "f0a2a75b",
        "outputId": "9d06d4ba-7440-42dd-f117-d439cbc9fc44"
      },
      "outputs": [
        {
          "data": {
            "text/plain": [
              "<AxesSubplot:ylabel='species'>"
            ]
          },
          "execution_count": 18,
          "metadata": {},
          "output_type": "execute_result"
        },
        {
          "data": {
            "image/png": "[encoded data removed]",
            "text/plain": [
              "<Figure size 432x288 with 1 Axes>"
            ]
          },
          "metadata": {},
          "output_type": "display_data"
        }
      ],
      "source": [
        "#Pie plot to show the overall types of Iris classifications\n",
        "df['species'].value_counts().plot(kind = 'pie',  autopct = '%1.1f%%', shadow = True, explode = [0.08,0.08,0.08])"
      ]
    },
    {
      "cell_type": "markdown",
      "source": [
        "#Correlation Matrix"
      ],
      "metadata": {
        "id": "NAN6wukXY-aP"
      },
      "id": "NAN6wukXY-aP"
    },
    {
      "cell_type": "code",
      "execution_count": null,
      "id": "b9d92331",
      "metadata": {
        "id": "b9d92331",
        "outputId": "d34f633b-eb34-4d6a-b6fd-d8ab8b4b5c92"
      },
      "outputs": [
        {
          "data": {
            "text/html": [
              "<div>\n",
              "<style scoped>\n",
              "    .dataframe tbody tr th:only-of-type {\n",
              "        vertical-align: middle;\n",
              "    }\n",
              "\n",
              "    .dataframe tbody tr th {\n",
              "        vertical-align: top;\n",
              "    }\n",
              "\n",
              "    .dataframe thead th {\n",
              "        text-align: right;\n",
              "    }\n",
              "</style>\n",
              "<table border=\"1\" class=\"dataframe\">\n",
              "  <thead>\n",
              "    <tr style=\"text-align: right;\">\n",
              "      <th></th>\n",
              "      <th>sepal_length</th>\n",
              "      <th>sepal_width</th>\n",
              "      <th>petal_length</th>\n",
              "      <th>petal_width</th>\n",
              "    </tr>\n",
              "  </thead>\n",
              "  <tbody>\n",
              "    <tr>\n",
              "      <th>sepal_length</th>\n",
              "      <td>1.000000</td>\n",
              "      <td>-0.109369</td>\n",
              "      <td>0.871754</td>\n",
              "      <td>0.817954</td>\n",
              "    </tr>\n",
              "    <tr>\n",
              "      <th>sepal_width</th>\n",
              "      <td>-0.109369</td>\n",
              "      <td>1.000000</td>\n",
              "      <td>-0.420516</td>\n",
              "      <td>-0.356544</td>\n",
              "    </tr>\n",
              "    <tr>\n",
              "      <th>petal_length</th>\n",
              "      <td>0.871754</td>\n",
              "      <td>-0.420516</td>\n",
              "      <td>1.000000</td>\n",
              "      <td>0.962757</td>\n",
              "    </tr>\n",
              "    <tr>\n",
              "      <th>petal_width</th>\n",
              "      <td>0.817954</td>\n",
              "      <td>-0.356544</td>\n",
              "      <td>0.962757</td>\n",
              "      <td>1.000000</td>\n",
              "    </tr>\n",
              "  </tbody>\n",
              "</table>\n",
              "</div>"
            ],
            "text/plain": [
              "              sepal_length  sepal_width  petal_length  petal_width\n",
              "sepal_length      1.000000    -0.109369      0.871754     0.817954\n",
              "sepal_width      -0.109369     1.000000     -0.420516    -0.356544\n",
              "petal_length      0.871754    -0.420516      1.000000     0.962757\n",
              "petal_width       0.817954    -0.356544      0.962757     1.000000"
            ]
          },
          "execution_count": 20,
          "metadata": {},
          "output_type": "execute_result"
        }
      ],
      "source": [
        "df.corr()"
      ]
    },
    {
      "cell_type": "markdown",
      "source": [
        "# Heat Map"
      ],
      "metadata": {
        "id": "xYChsVkCZEG3"
      },
      "id": "xYChsVkCZEG3"
    },
    {
      "cell_type": "code",
      "execution_count": null,
      "id": "7899c3b2",
      "metadata": {
        "id": "7899c3b2",
        "outputId": "f8f2269f-2de3-4ddf-fa9f-de879f40623e"
      },
      "outputs": [
        {
          "data": {
            "image/png": "[encoded data removed]",
            "text/plain": [
              "<Figure size 648x504 with 2 Axes>"
            ]
          },
          "metadata": {
            "needs_background": "light"
          },
          "output_type": "display_data"
        }
      ],
      "source": [
        "plt.figure(figsize=(9,7))\n",
        "sns.heatmap(df.corr(),cmap='CMRmap',annot=True,linewidths=2)\n",
        "plt.title(\"Correlation Graph\",size=20)\n",
        "plt.show()"
      ]
    },
    {
      "cell_type": "markdown",
      "source": [
        "The diagonal values are 1, as predicted, because they reflect the feature's relationship to itself. Petal breadth has a strong positive association with Sepal length and Petal length. In addition, there is a strong positive link between Petal and Sepal length."
      ],
      "metadata": {
        "id": "FFYWx0ZccUPc"
      },
      "id": "FFYWx0ZccUPc"
    },
    {
      "cell_type": "markdown",
      "source": [
        "#Label encoding for categorical variables \n",
        "\n",
        "\n",
        "We frequently work with datasets in machine learning that include numerous labels in one or more columns. Labels in the form of words or numbers can be used. Label encoding is the process of turning labels into numeric form so that they may be read by machines."
      ],
      "metadata": {
        "id": "rQu_bJGhciGt"
      },
      "id": "rQu_bJGhciGt"
    },
    {
      "cell_type": "code",
      "execution_count": null,
      "id": "f1cdb8e8",
      "metadata": {
        "id": "f1cdb8e8"
      },
      "outputs": [],
      "source": [
        "from sklearn.preprocessing import LabelEncoder\n",
        "le = LabelEncoder()"
      ]
    },
    {
      "cell_type": "code",
      "execution_count": null,
      "id": "9342c798",
      "metadata": {
        "id": "9342c798",
        "outputId": "d3db9348-74a7-4b36-a6a0-c7d129fb9f42"
      },
      "outputs": [
        {
          "data": {
            "text/html": [
              "<div>\n",
              "<style scoped>\n",
              "    .dataframe tbody tr th:only-of-type {\n",
              "        vertical-align: middle;\n",
              "    }\n",
              "\n",
              "    .dataframe tbody tr th {\n",
              "        vertical-align: top;\n",
              "    }\n",
              "\n",
              "    .dataframe thead th {\n",
              "        text-align: right;\n",
              "    }\n",
              "</style>\n",
              "<table border=\"1\" class=\"dataframe\">\n",
              "  <thead>\n",
              "    <tr style=\"text-align: right;\">\n",
              "      <th></th>\n",
              "      <th>sepal_length</th>\n",
              "      <th>sepal_width</th>\n",
              "      <th>petal_length</th>\n",
              "      <th>petal_width</th>\n",
              "      <th>species</th>\n",
              "    </tr>\n",
              "  </thead>\n",
              "  <tbody>\n",
              "    <tr>\n",
              "      <th>0</th>\n",
              "      <td>5.1</td>\n",
              "      <td>3.5</td>\n",
              "      <td>1.4</td>\n",
              "      <td>0.2</td>\n",
              "      <td>0</td>\n",
              "    </tr>\n",
              "    <tr>\n",
              "      <th>1</th>\n",
              "      <td>4.9</td>\n",
              "      <td>3.0</td>\n",
              "      <td>1.4</td>\n",
              "      <td>0.2</td>\n",
              "      <td>0</td>\n",
              "    </tr>\n",
              "    <tr>\n",
              "      <th>2</th>\n",
              "      <td>4.7</td>\n",
              "      <td>3.2</td>\n",
              "      <td>1.3</td>\n",
              "      <td>0.2</td>\n",
              "      <td>0</td>\n",
              "    </tr>\n",
              "    <tr>\n",
              "      <th>3</th>\n",
              "      <td>4.6</td>\n",
              "      <td>3.1</td>\n",
              "      <td>1.5</td>\n",
              "      <td>0.2</td>\n",
              "      <td>0</td>\n",
              "    </tr>\n",
              "    <tr>\n",
              "      <th>4</th>\n",
              "      <td>5.0</td>\n",
              "      <td>3.6</td>\n",
              "      <td>1.4</td>\n",
              "      <td>0.2</td>\n",
              "      <td>0</td>\n",
              "    </tr>\n",
              "  </tbody>\n",
              "</table>\n",
              "</div>"
            ],
            "text/plain": [
              "   sepal_length  sepal_width  petal_length  petal_width  species\n",
              "0           5.1          3.5           1.4          0.2        0\n",
              "1           4.9          3.0           1.4          0.2        0\n",
              "2           4.7          3.2           1.3          0.2        0\n",
              "3           4.6          3.1           1.5          0.2        0\n",
              "4           5.0          3.6           1.4          0.2        0"
            ]
          },
          "execution_count": 24,
          "metadata": {},
          "output_type": "execute_result"
        }
      ],
      "source": [
        "df['species'] = le.fit_transform(df['species'])\n",
        "df.head()"
      ]
    },
    {
      "cell_type": "code",
      "execution_count": null,
      "id": "9756940b",
      "metadata": {
        "id": "9756940b",
        "outputId": "ca750e8d-9168-4436-8668-61518c540bf9"
      },
      "outputs": [
        {
          "data": {
            "text/plain": [
              "array([0, 1, 2])"
            ]
          },
          "execution_count": 25,
          "metadata": {},
          "output_type": "execute_result"
        }
      ],
      "source": [
        "df['species'].unique()   # To display no. of samples on each class."
      ]
    },
    {
      "cell_type": "markdown",
      "source": [
        "#Splitting X and Y into Train and Test dataset"
      ],
      "metadata": {
        "id": "mS437RVxc2yY"
      },
      "id": "mS437RVxc2yY"
    },
    {
      "cell_type": "code",
      "execution_count": null,
      "id": "aa8645d9",
      "metadata": {
        "id": "aa8645d9"
      },
      "outputs": [],
      "source": [
        "from sklearn.model_selection import train_test_split\n",
        "\n",
        "features = ['sepal_length','sepal_width','petal_length','petal_width']\n",
        "X = df.loc[:, features].values   #defining the feature matrix\n",
        "Y = df.species\n",
        "\n",
        "X_Train, X_Test, Y_Train, Y_Test = train_test_split(X, Y, test_size = 40,random_state=0)"
      ]
    },
    {
      "cell_type": "code",
      "execution_count": null,
      "id": "5c0343eb",
      "metadata": {
        "id": "5c0343eb",
        "outputId": "3fb188f6-23dc-4ff2-9497-9ec40f962d0c"
      },
      "outputs": [
        {
          "data": {
            "text/plain": [
              "(110, 4)"
            ]
          },
          "execution_count": 29,
          "metadata": {},
          "output_type": "execute_result"
        }
      ],
      "source": [
        "X_Train.shape\n"
      ]
    },
    {
      "cell_type": "code",
      "execution_count": null,
      "id": "eda6dbd6",
      "metadata": {
        "id": "eda6dbd6",
        "outputId": "ba8fb1af-22fc-478b-b26c-6de8774ac0b9"
      },
      "outputs": [
        {
          "data": {
            "text/plain": [
              "(40, 4)"
            ]
          },
          "execution_count": 30,
          "metadata": {},
          "output_type": "execute_result"
        }
      ],
      "source": [
        "X_Test.shape"
      ]
    },
    {
      "cell_type": "code",
      "execution_count": null,
      "id": "e9b2a218",
      "metadata": {
        "id": "e9b2a218",
        "outputId": "28fa42ed-0f3a-4c8c-81a7-38a82736aacb"
      },
      "outputs": [
        {
          "data": {
            "text/plain": [
              "(110,)"
            ]
          },
          "execution_count": 31,
          "metadata": {},
          "output_type": "execute_result"
        }
      ],
      "source": [
        "Y_Train.shape\n"
      ]
    },
    {
      "cell_type": "code",
      "execution_count": null,
      "id": "8a9e8595",
      "metadata": {
        "id": "8a9e8595",
        "outputId": "168a6bb9-1728-456b-e471-3e29302d2303"
      },
      "outputs": [
        {
          "data": {
            "text/plain": [
              "(40,)"
            ]
          },
          "execution_count": 32,
          "metadata": {},
          "output_type": "execute_result"
        }
      ],
      "source": [
        "Y_Test.shape"
      ]
    },
    {
      "cell_type": "markdown",
      "source": [
        "#Data Scaling"
      ],
      "metadata": {
        "id": "XLEeuZIcdK9H"
      },
      "id": "XLEeuZIcdK9H"
    },
    {
      "cell_type": "code",
      "execution_count": null,
      "id": "fd7ee7ff",
      "metadata": {
        "id": "fd7ee7ff"
      },
      "outputs": [],
      "source": [
        "# Feature Scaling to bring all the variables in a single scale.\n",
        "from sklearn.preprocessing import StandardScaler\n",
        "sc = StandardScaler()\n",
        "X_Train = sc.fit_transform(X_Train)\n",
        "X_Test = sc.transform(X_Test)\n",
        "\n",
        "\n",
        "# Importing some metrics for evaluating  models.\n",
        "from sklearn import metrics\n",
        "from sklearn.metrics import accuracy_score\n",
        "from sklearn.metrics import  classification_report\n",
        "from sklearn.metrics import confusion_matrix"
      ]
    },
    {
      "cell_type": "markdown",
      "source": [
        "#Model Creation\n",
        "\n",
        "#Logistic Regression **bold text**"
      ],
      "metadata": {
        "id": "QvHvbrbqdTvS"
      },
      "id": "QvHvbrbqdTvS"
    },
    {
      "cell_type": "code",
      "execution_count": null,
      "id": "246b78bb",
      "metadata": {
        "id": "246b78bb"
      },
      "outputs": [],
      "source": [
        "#Model Creation\n",
        "#Logistic Regression\n",
        "from sklearn.linear_model import LogisticRegression\n",
        "log_model= LogisticRegression(random_state = 0)\n",
        "log_model.fit(X_Train, Y_Train)\n",
        "\n",
        "# model training\n",
        "log_model.fit(X_Train, Y_Train)\n",
        "\n",
        "# Predicting\n",
        "Y_Pred_Test_log_res=log_model.predict(X_Test)"
      ]
    },
    {
      "cell_type": "code",
      "execution_count": null,
      "id": "15a2cf5e",
      "metadata": {
        "id": "15a2cf5e",
        "outputId": "d3b15a6f-6efb-4c73-aee2-2a78247bc2c1"
      },
      "outputs": [
        {
          "data": {
            "text/plain": [
              "array([2, 1, 0, 2, 0, 2, 0, 1, 1, 1, 2, 1, 1, 1, 1, 0, 1, 1, 0, 0, 2, 1,\n",
              "       0, 0, 2, 0, 0, 1, 1, 0, 2, 1, 0, 2, 2, 1, 0, 2, 1, 1])"
            ]
          },
          "execution_count": 35,
          "metadata": {},
          "output_type": "execute_result"
        }
      ],
      "source": [
        "Y_Pred_Test_log_res"
      ]
    },
    {
      "cell_type": "code",
      "execution_count": null,
      "id": "dc0d1bc2",
      "metadata": {
        "id": "dc0d1bc2",
        "outputId": "0def9746-2704-4d3d-eec1-c2cb7b967033"
      },
      "outputs": [
        {
          "name": "stdout",
          "output_type": "stream",
          "text": [
            "Accuracy: 97.5\n"
          ]
        }
      ],
      "source": [
        "print(\"Accuracy:\",metrics.accuracy_score(Y_Test, Y_Pred_Test_log_res)*100)"
      ]
    },
    {
      "cell_type": "code",
      "execution_count": null,
      "id": "7e77e9ba",
      "metadata": {
        "id": "7e77e9ba",
        "outputId": "d912608d-e268-4b92-d679-6f6c12329409"
      },
      "outputs": [
        {
          "name": "stdout",
          "output_type": "stream",
          "text": [
            "              precision    recall  f1-score   support\n",
            "\n",
            "           0       1.00      1.00      1.00        13\n",
            "           1       1.00      0.94      0.97        18\n",
            "           2       0.90      1.00      0.95         9\n",
            "\n",
            "    accuracy                           0.97        40\n",
            "   macro avg       0.97      0.98      0.97        40\n",
            "weighted avg       0.98      0.97      0.98        40\n",
            "\n"
          ]
        }
      ],
      "source": [
        "print(classification_report(Y_Test, Y_Pred_Test_log_res))"
      ]
    },
    {
      "cell_type": "code",
      "execution_count": null,
      "id": "364f8af2",
      "metadata": {
        "id": "364f8af2",
        "outputId": "ebf7113a-2b0f-4c7a-ad68-3fb50a36f7de"
      },
      "outputs": [
        {
          "data": {
            "text/plain": [
              "array([[13,  0,  0],\n",
              "       [ 0, 17,  1],\n",
              "       [ 0,  0,  9]], dtype=int64)"
            ]
          },
          "execution_count": 38,
          "metadata": {},
          "output_type": "execute_result"
        }
      ],
      "source": [
        "confusion_matrix(Y_Test,Y_Pred_Test_log_res )"
      ]
    },
    {
      "cell_type": "markdown",
      "source": [
        "#K-Nearest Neighbour"
      ],
      "metadata": {
        "id": "WwnF7IDzdk5O"
      },
      "id": "WwnF7IDzdk5O"
    },
    {
      "cell_type": "code",
      "execution_count": null,
      "id": "b26ada1d",
      "metadata": {
        "id": "b26ada1d"
      },
      "outputs": [],
      "source": [
        "# Importing KNeighborsClassifier from sklearn.neighbors library\n",
        "from sklearn.neighbors import KNeighborsClassifier\n",
        "knn_model = KNeighborsClassifier(n_neighbors=3, weights='distance', algorithm='auto')\n",
        "\n",
        "# Importing KNeighborsClassifier \n",
        "from sklearn.neighbors import KNeighborsClassifier\n",
        "knn_model = KNeighborsClassifier(n_neighbors = 5, metric = 'minkowski', p = 2)\n",
        "\n",
        "# model training\n",
        "knn_model.fit(X_Train, Y_Train)\n",
        "\n",
        "# Predicting\n",
        "Y_Pred_Test_knn=knn_model.predict(X_Test)"
      ]
    },
    {
      "cell_type": "code",
      "execution_count": null,
      "id": "c7d756c9",
      "metadata": {
        "id": "c7d756c9",
        "outputId": "74f41357-0d25-4769-f3c5-a4403f3aad25"
      },
      "outputs": [
        {
          "data": {
            "text/plain": [
              "LogisticRegression(random_state=0)"
            ]
          },
          "execution_count": 40,
          "metadata": {},
          "output_type": "execute_result"
        }
      ],
      "source": [
        "log_model.fit(X_Train, Y_Train)"
      ]
    },
    {
      "cell_type": "code",
      "execution_count": null,
      "id": "1a084d62",
      "metadata": {
        "id": "1a084d62",
        "outputId": "29056848-05f6-4ca6-d96c-40d8649054bf"
      },
      "outputs": [
        {
          "data": {
            "text/plain": [
              "array([2, 1, 0, 2, 0, 2, 0, 1, 1, 1, 2, 1, 1, 1, 1, 0, 1, 1, 0, 0, 2, 1,\n",
              "       0, 0, 2, 0, 0, 1, 1, 0, 2, 1, 0, 2, 2, 1, 0, 2, 1, 1])"
            ]
          },
          "execution_count": 41,
          "metadata": {},
          "output_type": "execute_result"
        }
      ],
      "source": [
        "Y_Pred_Test_knn"
      ]
    },
    {
      "cell_type": "code",
      "execution_count": null,
      "id": "9951c980",
      "metadata": {
        "id": "9951c980",
        "outputId": "8d407e82-a305-40b9-e793-3ede5bcb90e1"
      },
      "outputs": [
        {
          "name": "stdout",
          "output_type": "stream",
          "text": [
            "Accuracy: 97.5\n"
          ]
        }
      ],
      "source": [
        "print(\"Accuracy:\",metrics.accuracy_score(Y_Test,Y_Pred_Test_knn)*100)"
      ]
    },
    {
      "cell_type": "code",
      "execution_count": null,
      "id": "af631149",
      "metadata": {
        "id": "af631149",
        "outputId": "d0f03032-0c85-4acf-c952-b602c7235c4f"
      },
      "outputs": [
        {
          "name": "stdout",
          "output_type": "stream",
          "text": [
            "              precision    recall  f1-score   support\n",
            "\n",
            "           0       1.00      1.00      1.00        13\n",
            "           1       1.00      0.94      0.97        18\n",
            "           2       0.90      1.00      0.95         9\n",
            "\n",
            "    accuracy                           0.97        40\n",
            "   macro avg       0.97      0.98      0.97        40\n",
            "weighted avg       0.98      0.97      0.98        40\n",
            "\n"
          ]
        }
      ],
      "source": [
        "print(classification_report(Y_Test,Y_Pred_Test_knn))"
      ]
    },
    {
      "cell_type": "code",
      "execution_count": null,
      "id": "8bd0f26b",
      "metadata": {
        "id": "8bd0f26b",
        "outputId": "80e9d335-6da0-4ab7-881f-bb47942978fd"
      },
      "outputs": [
        {
          "data": {
            "text/plain": [
              "array([[13,  0,  0],\n",
              "       [ 0, 17,  1],\n",
              "       [ 0,  0,  9]], dtype=int64)"
            ]
          },
          "execution_count": 44,
          "metadata": {},
          "output_type": "execute_result"
        }
      ],
      "source": [
        "confusion_matrix(Y_Test, Y_Pred_Test_knn)"
      ]
    },
    {
      "cell_type": "markdown",
      "source": [
        "#Naive Bayes"
      ],
      "metadata": {
        "id": "hkf0Z-eod7B0"
      },
      "id": "hkf0Z-eod7B0"
    },
    {
      "cell_type": "markdown",
      "source": [
        ""
      ],
      "metadata": {
        "id": "82OFCI47d6x0"
      },
      "id": "82OFCI47d6x0"
    },
    {
      "cell_type": "code",
      "execution_count": null,
      "id": "142f5e61",
      "metadata": {
        "id": "142f5e61"
      },
      "outputs": [],
      "source": [
        "#Naive Bayes\n",
        "from sklearn.naive_bayes import GaussianNB\n",
        "nav_byes = GaussianNB()\n",
        "\n",
        "# model training\n",
        "nav_byes.fit(X_Train, Y_Train)\n",
        "\n",
        "# Predicting\n",
        "Y_Pred_Test_nvb=nav_byes.predict(X_Test)"
      ]
    },
    {
      "cell_type": "code",
      "execution_count": null,
      "id": "5ff5f8c6",
      "metadata": {
        "id": "5ff5f8c6",
        "outputId": "f0feb146-3fde-4fb1-ccd2-8de5bb851321"
      },
      "outputs": [
        {
          "data": {
            "text/plain": [
              "array([2, 1, 0, 2, 0, 2, 0, 1, 1, 1, 2, 1, 1, 1, 1, 0, 1, 1, 0, 0, 2, 1,\n",
              "       0, 0, 2, 0, 0, 1, 1, 0, 2, 1, 0, 2, 2, 1, 0, 1, 1, 1])"
            ]
          },
          "execution_count": 46,
          "metadata": {},
          "output_type": "execute_result"
        }
      ],
      "source": [
        "Y_Pred_Test_nvb"
      ]
    },
    {
      "cell_type": "code",
      "execution_count": null,
      "id": "361c0c6e",
      "metadata": {
        "id": "361c0c6e",
        "outputId": "574ed333-92f7-4259-bba9-df1523b5b872"
      },
      "outputs": [
        {
          "name": "stdout",
          "output_type": "stream",
          "text": [
            "Accuracy: 100.0\n"
          ]
        }
      ],
      "source": [
        "print(\"Accuracy:\",metrics.accuracy_score(Y_Test, Y_Pred_Test_nvb)*100)"
      ]
    },
    {
      "cell_type": "code",
      "execution_count": null,
      "id": "0d46760d",
      "metadata": {
        "id": "0d46760d",
        "outputId": "830b8a85-6a71-4013-d86e-96e60729ea06"
      },
      "outputs": [
        {
          "name": "stdout",
          "output_type": "stream",
          "text": [
            "              precision    recall  f1-score   support\n",
            "\n",
            "           0       1.00      1.00      1.00        13\n",
            "           1       1.00      1.00      1.00        18\n",
            "           2       1.00      1.00      1.00         9\n",
            "\n",
            "    accuracy                           1.00        40\n",
            "   macro avg       1.00      1.00      1.00        40\n",
            "weighted avg       1.00      1.00      1.00        40\n",
            "\n"
          ]
        }
      ],
      "source": [
        "print(classification_report(Y_Test, Y_Pred_Test_nvb))"
      ]
    },
    {
      "cell_type": "code",
      "execution_count": null,
      "id": "2ab07872",
      "metadata": {
        "id": "2ab07872",
        "outputId": "34946223-c7e1-441f-9c4f-8c826ba1d37c"
      },
      "outputs": [
        {
          "data": {
            "text/plain": [
              "array([[13,  0,  0],\n",
              "       [ 0, 18,  0],\n",
              "       [ 0,  0,  9]], dtype=int64)"
            ]
          },
          "execution_count": 49,
          "metadata": {},
          "output_type": "execute_result"
        }
      ],
      "source": [
        "confusion_matrix(Y_Test,Y_Pred_Test_nvb )"
      ]
    },
    {
      "cell_type": "markdown",
      "source": [
        "#Random Forest Classification"
      ],
      "metadata": {
        "id": "6jsLvtRWeCqR"
      },
      "id": "6jsLvtRWeCqR"
    },
    {
      "cell_type": "code",
      "execution_count": null,
      "id": "ab6364f1",
      "metadata": {
        "id": "ab6364f1"
      },
      "outputs": [],
      "source": [
        "#Random Forest Classification\n",
        "from sklearn.ensemble import RandomForestClassifier\n",
        "Ran_for = RandomForestClassifier(n_estimators = 10, criterion = 'entropy')\n",
        "\n",
        "# model training\n",
        "Ran_for.fit(X_Train, Y_Train)\n",
        "\n",
        "# Predicting\n",
        "Y_Pred_Test_rf=Ran_for.predict(X_Test)\n"
      ]
    },
    {
      "cell_type": "code",
      "execution_count": null,
      "id": "939d7146",
      "metadata": {
        "id": "939d7146",
        "outputId": "d7d55379-8738-40a0-8ce2-167ae29fcf63"
      },
      "outputs": [
        {
          "data": {
            "text/plain": [
              "array([2, 1, 0, 2, 0, 2, 0, 1, 1, 1, 2, 1, 1, 1, 1, 0, 1, 1, 0, 0, 2, 1,\n",
              "       0, 0, 2, 0, 0, 1, 1, 0, 2, 1, 0, 2, 2, 1, 0, 2, 1, 1])"
            ]
          },
          "execution_count": 51,
          "metadata": {},
          "output_type": "execute_result"
        }
      ],
      "source": [
        "Y_Pred_Test_rf"
      ]
    },
    {
      "cell_type": "code",
      "execution_count": null,
      "id": "bc430228",
      "metadata": {
        "id": "bc430228",
        "outputId": "914fbea2-8659-4376-e591-e83b77807f4b"
      },
      "outputs": [
        {
          "name": "stdout",
          "output_type": "stream",
          "text": [
            "Accuracy: 97.5\n"
          ]
        }
      ],
      "source": [
        "print(\"Accuracy:\",metrics.accuracy_score(Y_Test,Y_Pred_Test_rf)*100)"
      ]
    },
    {
      "cell_type": "code",
      "execution_count": null,
      "id": "f2ed32ac",
      "metadata": {
        "id": "f2ed32ac",
        "outputId": "98f8f19c-4399-412d-ccbd-11667ebac082"
      },
      "outputs": [
        {
          "name": "stdout",
          "output_type": "stream",
          "text": [
            "              precision    recall  f1-score   support\n",
            "\n",
            "           0       1.00      1.00      1.00        13\n",
            "           1       1.00      0.94      0.97        18\n",
            "           2       0.90      1.00      0.95         9\n",
            "\n",
            "    accuracy                           0.97        40\n",
            "   macro avg       0.97      0.98      0.97        40\n",
            "weighted avg       0.98      0.97      0.98        40\n",
            "\n"
          ]
        }
      ],
      "source": [
        "print(classification_report(Y_Test, Y_Pred_Test_rf))"
      ]
    },
    {
      "cell_type": "code",
      "execution_count": null,
      "id": "8025af37",
      "metadata": {
        "id": "8025af37",
        "outputId": "8251c289-649b-49d9-c140-d4b60c1c4671"
      },
      "outputs": [
        {
          "data": {
            "text/plain": [
              "array([[13,  0,  0],\n",
              "       [ 0, 17,  1],\n",
              "       [ 0,  0,  9]], dtype=int64)"
            ]
          },
          "execution_count": 54,
          "metadata": {},
          "output_type": "execute_result"
        }
      ],
      "source": [
        "confusion_matrix(Y_Test,Y_Pred_Test_rf )\n"
      ]
    },
    {
      "cell_type": "markdown",
      "source": [
        "#SVM"
      ],
      "metadata": {
        "id": "qEYA381teKl_"
      },
      "id": "qEYA381teKl_"
    },
    {
      "cell_type": "code",
      "execution_count": null,
      "id": "6262eeff",
      "metadata": {
        "id": "6262eeff"
      },
      "outputs": [],
      "source": [
        "# Importing SVC from sklearn.svm library\n",
        "\n",
        "from sklearn.svm import SVC\n",
        "svm_model=SVC(C=500, kernel='rbf')\n",
        "\n",
        "# model training\n",
        "svm_model.fit(X_Train, Y_Train)\n",
        "\n",
        "# Predicting\n",
        "Y_Pred_Test_svm=svm_model.predict(X_Test)"
      ]
    },
    {
      "cell_type": "code",
      "execution_count": null,
      "id": "4ac6a0ac",
      "metadata": {
        "id": "4ac6a0ac",
        "outputId": "b00b1cf3-b526-43b8-9807-7ad7f7092c76"
      },
      "outputs": [
        {
          "data": {
            "text/plain": [
              "array([2, 1, 0, 2, 0, 2, 0, 1, 1, 1, 2, 1, 1, 1, 1, 0, 1, 1, 0, 0, 2, 1,\n",
              "       0, 0, 2, 0, 0, 1, 1, 0, 2, 1, 0, 2, 2, 1, 0, 2, 1, 1])"
            ]
          },
          "execution_count": 56,
          "metadata": {},
          "output_type": "execute_result"
        }
      ],
      "source": [
        "Y_Pred_Test_svm"
      ]
    },
    {
      "cell_type": "code",
      "execution_count": null,
      "id": "37e5e536",
      "metadata": {
        "id": "37e5e536",
        "outputId": "4ec15b46-6984-4325-f5cd-a939cdca77f2"
      },
      "outputs": [
        {
          "name": "stdout",
          "output_type": "stream",
          "text": [
            "Accuracy: 97.5\n"
          ]
        }
      ],
      "source": [
        "print(\"Accuracy:\",metrics.accuracy_score(Y_Test,Y_Pred_Test_svm)*100)"
      ]
    },
    {
      "cell_type": "code",
      "execution_count": null,
      "id": "d2e8a3d1",
      "metadata": {
        "id": "d2e8a3d1",
        "outputId": "6feed6c0-fb9f-4478-ef6d-5ce4654bdae2"
      },
      "outputs": [
        {
          "name": "stdout",
          "output_type": "stream",
          "text": [
            "              precision    recall  f1-score   support\n",
            "\n",
            "           0       1.00      1.00      1.00        13\n",
            "           1       1.00      0.94      0.97        18\n",
            "           2       0.90      1.00      0.95         9\n",
            "\n",
            "    accuracy                           0.97        40\n",
            "   macro avg       0.97      0.98      0.97        40\n",
            "weighted avg       0.98      0.97      0.98        40\n",
            "\n"
          ]
        }
      ],
      "source": [
        "print(classification_report(Y_Test, Y_Pred_Test_svm))"
      ]
    },
    {
      "cell_type": "code",
      "execution_count": null,
      "id": "54ad2359",
      "metadata": {
        "id": "54ad2359",
        "outputId": "ebd78e71-ff83-4480-9bed-112faf341699"
      },
      "outputs": [
        {
          "data": {
            "text/plain": [
              "array([[13,  0,  0],\n",
              "       [ 0, 17,  1],\n",
              "       [ 0,  0,  9]], dtype=int64)"
            ]
          },
          "execution_count": 59,
          "metadata": {},
          "output_type": "execute_result"
        }
      ],
      "source": [
        "confusion_matrix(Y_Test,Y_Pred_Test_svm )"
      ]
    },
    {
      "cell_type": "markdown",
      "source": [
        "#Model Evaluation Results"
      ],
      "metadata": {
        "id": "GW-07C38eOj0"
      },
      "id": "GW-07C38eOj0"
    },
    {
      "cell_type": "code",
      "execution_count": null,
      "id": "518c791f",
      "metadata": {
        "id": "518c791f",
        "outputId": "eb564b6d-4b39-456d-b9a7-7eedfbc41132"
      },
      "outputs": [
        {
          "name": "stdout",
          "output_type": "stream",
          "text": [
            "MODEL EVALUATION RESULTS\n",
            "Accuracy of KNN Model: 97.5\n",
            "Accuracy of Logistic Regression Model: 97.5\n",
            "Accuracy of Naive Bayes Model: 100.0\n",
            "Accuracy of SVM Model: 97.5\n",
            "Accuracy of Random Forest Classification Model: 97.5\n"
          ]
        }
      ],
      "source": [
        "print(\"MODEL EVALUATION RESULTS\")\n",
        "print(\"Accuracy of KNN Model:\",metrics.accuracy_score(Y_Test,Y_Pred_Test_knn)*100)\n",
        "print(\"Accuracy of Logistic Regression Model:\",metrics.accuracy_score(Y_Test, Y_Pred_Test_log_res)*100)\n",
        "print(\"Accuracy of Naive Bayes Model:\",metrics.accuracy_score(Y_Test, Y_Pred_Test_nvb)*100)\n",
        "print(\"Accuracy of SVM Model:\",metrics.accuracy_score(Y_Test,Y_Pred_Test_svm)*100)\n",
        "print(\"Accuracy of Random Forest Classification Model:\",metrics.accuracy_score(Y_Test,Y_Pred_Test_rf)*100)"
      ]
    },
    {
      "cell_type": "markdown",
      "source": [
        ""
      ],
      "metadata": {
        "id": "6kwlMEzefAQW"
      },
      "id": "6kwlMEzefAQW"
    },
    {
      "cell_type": "markdown",
      "source": [
        "#Conclusions\n",
        "\n",
        "Our dataset was rather small, with only 150 rows and homogeneous distribution of all three species.\n",
        "Petal_widthcm and petal_lengthcm were substantially associated.\n",
        "Petal_lengthcm and petal_widthcm were substantially associated.\n",
        "\n",
        "On the Iris Test data set, I used 6 different machine learning classification models to identify the flower into its three species:\n",
        "\n",
        "a) Iris Setosa \n",
        "\n",
        "b) Iris Versicolor \n",
        "\n",
        "c) Iris Virginica \n",
        "\n",
        "Depends on the length and width of the Petals and Sepals of the flower\n",
        "Due to the tiny size of the dataset, we received very high accuracy scores for all of the models, including a score of 100 for KNN and SVM with Linear Kernel models with little hyper parameter adjustment.\n",
        "\n"
      ],
      "metadata": {
        "id": "j4MIuZkRea-I"
      },
      "id": "j4MIuZkRea-I"
    }
  ],
  "metadata": {
    "kernelspec": {
      "display_name": "Python 3",
      "language": "python",
      "name": "python3"
    },
    "language_info": {
      "codemirror_mode": {
        "name": "ipython",
        "version": 3
      },
      "file_extension": ".py",
      "mimetype": "text/x-python",
      "name": "python",
      "nbconvert_exporter": "python",
      "pygments_lexer": "ipython3",
      "version": "3.8.8"
    },
    "colab": {
      "name": "IRIS Flower.ipynb",
      "provenance": []
    }
  },
  "nbformat": 4,
  "nbformat_minor": 5
}