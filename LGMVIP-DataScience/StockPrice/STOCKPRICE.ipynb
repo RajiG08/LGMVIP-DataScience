{
  "nbformat": 4,
  "nbformat_minor": 0,
  "metadata": {
    "colab": {
      "name": "STOCKPRICE.ipynb",
      "provenance": []
    },
    "kernelspec": {
      "name": "python3",
      "display_name": "Python 3"
    },
    "language_info": {
      "name": "python"
    }
  },
  "cells": [
    {
      "cell_type": "code",
      "source": [
        "import pandas as pd\n",
        "import numpy as np\n",
        "import math\n",
        "import matplotlib.pyplot as plt\n",
        "from sklearn.preprocessing import MinMaxScaler\n",
        "from sklearn.metrics import mean_squared_error\n",
        "import tensorflow as tf\n",
        "from tensorflow.python.keras.models import Sequential\n",
        "from tensorflow.python.keras.layers import Dense\n",
        "from tensorflow.python.keras.layers import LSTM\n",
        "%matplotlib inline"
      ],
      "metadata": {
        "id": "nXmvuyOhOK5K"
      },
      "execution_count": 1,
      "outputs": []
    },
    {
      "cell_type": "markdown",
      "source": [
        "Checking the version of the tensorflow"
      ],
      "metadata": {
        "id": "aXRr9OsMTAbi"
      }
    },
    {
      "cell_type": "code",
      "source": [
        "tf.__version__"
      ],
      "metadata": {
        "colab": {
          "base_uri": "https://localhost:8080/",
          "height": 36
        },
        "id": "uOKus3yVS4sl",
        "outputId": "259eb9f6-feb7-40cb-eef0-31bf46527a2d"
      },
      "execution_count": 2,
      "outputs": [
        {
          "output_type": "execute_result",
          "data": {
            "text/plain": [
              "'2.8.0'"
            ],
            "application/vnd.google.colaboratory.intrinsic+json": {
              "type": "string"
            }
          },
          "metadata": {},
          "execution_count": 2
        }
      ]
    },
    {
      "cell_type": "markdown",
      "source": [
        "#Loading the dataset"
      ],
      "metadata": {
        "id": "DZyqu6hUTLn_"
      }
    },
    {
      "cell_type": "markdown",
      "source": [
        "Import the data and remove rows containing NAN values"
      ],
      "metadata": {
        "id": "tAJNrJNjTRnr"
      }
    },
    {
      "cell_type": "code",
      "source": [
        "df = pd.read_csv('https://raw.githubusercontent.com/mwitiderrick/stockprice/master/NSE-TATAGLOBAL.csv')\n",
        "df=df. iloc[::-1]\n",
        "df.head()"
      ],
      "metadata": {
        "colab": {
          "base_uri": "https://localhost:8080/",
          "height": 206
        },
        "id": "ADlHtjMXS_fo",
        "outputId": "ed8c0568-176b-45a2-bf6a-e2c706799445"
      },
      "execution_count": 3,
      "outputs": [
        {
          "output_type": "execute_result",
          "data": {
            "text/plain": [
              "            Date   Open    High     Low    Last   Close  Total Trade Quantity  \\\n",
              "2034  2010-07-21  122.1  123.00  121.05  121.10  121.55                658666   \n",
              "2033  2010-07-22  120.3  122.00  120.25  120.75  120.90                293312   \n",
              "2032  2010-07-23  121.8  121.95  120.25  120.35  120.65                281312   \n",
              "2031  2010-07-26  120.1  121.00  117.10  117.10  117.60                658440   \n",
              "2030  2010-07-27  117.6  119.50  112.00  118.80  118.65                586100   \n",
              "\n",
              "      Turnover (Lacs)  \n",
              "2034           803.56  \n",
              "2033           355.17  \n",
              "2032           340.31  \n",
              "2031           780.01  \n",
              "2030           694.98  "
            ],
            "text/html": [
              "\n",
              "  <div id=\"df-dd13af1c-55e6-4ed5-858e-6fcdb4202147\">\n",
              "    <div class=\"colab-df-container\">\n",
              "      <div>\n",
              "<style scoped>\n",
              "    .dataframe tbody tr th:only-of-type {\n",
              "        vertical-align: middle;\n",
              "    }\n",
              "\n",
              "    .dataframe tbody tr th {\n",
              "        vertical-align: top;\n",
              "    }\n",
              "\n",
              "    .dataframe thead th {\n",
              "        text-align: right;\n",
              "    }\n",
              "</style>\n",
              "<table border=\"1\" class=\"dataframe\">\n",
              "  <thead>\n",
              "    <tr style=\"text-align: right;\">\n",
              "      <th></th>\n",
              "      <th>Date</th>\n",
              "      <th>Open</th>\n",
              "      <th>High</th>\n",
              "      <th>Low</th>\n",
              "      <th>Last</th>\n",
              "      <th>Close</th>\n",
              "      <th>Total Trade Quantity</th>\n",
              "      <th>Turnover (Lacs)</th>\n",
              "    </tr>\n",
              "  </thead>\n",
              "  <tbody>\n",
              "    <tr>\n",
              "      <th>2034</th>\n",
              "      <td>2010-07-21</td>\n",
              "      <td>122.1</td>\n",
              "      <td>123.00</td>\n",
              "      <td>121.05</td>\n",
              "      <td>121.10</td>\n",
              "      <td>121.55</td>\n",
              "      <td>658666</td>\n",
              "      <td>803.56</td>\n",
              "    </tr>\n",
              "    <tr>\n",
              "      <th>2033</th>\n",
              "      <td>2010-07-22</td>\n",
              "      <td>120.3</td>\n",
              "      <td>122.00</td>\n",
              "      <td>120.25</td>\n",
              "      <td>120.75</td>\n",
              "      <td>120.90</td>\n",
              "      <td>293312</td>\n",
              "      <td>355.17</td>\n",
              "    </tr>\n",
              "    <tr>\n",
              "      <th>2032</th>\n",
              "      <td>2010-07-23</td>\n",
              "      <td>121.8</td>\n",
              "      <td>121.95</td>\n",
              "      <td>120.25</td>\n",
              "      <td>120.35</td>\n",
              "      <td>120.65</td>\n",
              "      <td>281312</td>\n",
              "      <td>340.31</td>\n",
              "    </tr>\n",
              "    <tr>\n",
              "      <th>2031</th>\n",
              "      <td>2010-07-26</td>\n",
              "      <td>120.1</td>\n",
              "      <td>121.00</td>\n",
              "      <td>117.10</td>\n",
              "      <td>117.10</td>\n",
              "      <td>117.60</td>\n",
              "      <td>658440</td>\n",
              "      <td>780.01</td>\n",
              "    </tr>\n",
              "    <tr>\n",
              "      <th>2030</th>\n",
              "      <td>2010-07-27</td>\n",
              "      <td>117.6</td>\n",
              "      <td>119.50</td>\n",
              "      <td>112.00</td>\n",
              "      <td>118.80</td>\n",
              "      <td>118.65</td>\n",
              "      <td>586100</td>\n",
              "      <td>694.98</td>\n",
              "    </tr>\n",
              "  </tbody>\n",
              "</table>\n",
              "</div>\n",
              "      <button class=\"colab-df-convert\" onclick=\"convertToInteractive('df-dd13af1c-55e6-4ed5-858e-6fcdb4202147')\"\n",
              "              title=\"Convert this dataframe to an interactive table.\"\n",
              "              style=\"display:none;\">\n",
              "        \n",
              "  <svg xmlns=\"http://www.w3.org/2000/svg\" height=\"24px\"viewBox=\"0 0 24 24\"\n",
              "       width=\"24px\">\n",
              "    <path d=\"M0 0h24v24H0V0z\" fill=\"none\"/>\n",
              "    <path d=\"M18.56 5.44l.94 2.06.94-2.06 2.06-.94-2.06-.94-.94-2.06-.94 2.06-2.06.94zm-11 1L8.5 8.5l.94-2.06 2.06-.94-2.06-.94L8.5 2.5l-.94 2.06-2.06.94zm10 10l.94 2.06.94-2.06 2.06-.94-2.06-.94-.94-2.06-.94 2.06-2.06.94z\"/><path d=\"M17.41 7.96l-1.37-1.37c-.4-.4-.92-.59-1.43-.59-.52 0-1.04.2-1.43.59L10.3 9.45l-7.72 7.72c-.78.78-.78 2.05 0 2.83L4 21.41c.39.39.9.59 1.41.59.51 0 1.02-.2 1.41-.59l7.78-7.78 2.81-2.81c.8-.78.8-2.07 0-2.86zM5.41 20L4 18.59l7.72-7.72 1.47 1.35L5.41 20z\"/>\n",
              "  </svg>\n",
              "      </button>\n",
              "      \n",
              "  <style>\n",
              "    .colab-df-container {\n",
              "      display:flex;\n",
              "      flex-wrap:wrap;\n",
              "      gap: 12px;\n",
              "    }\n",
              "\n",
              "    .colab-df-convert {\n",
              "      background-color: #E8F0FE;\n",
              "      border: none;\n",
              "      border-radius: 50%;\n",
              "      cursor: pointer;\n",
              "      display: none;\n",
              "      fill: #1967D2;\n",
              "      height: 32px;\n",
              "      padding: 0 0 0 0;\n",
              "      width: 32px;\n",
              "    }\n",
              "\n",
              "    .colab-df-convert:hover {\n",
              "      background-color: #E2EBFA;\n",
              "      box-shadow: 0px 1px 2px rgba(60, 64, 67, 0.3), 0px 1px 3px 1px rgba(60, 64, 67, 0.15);\n",
              "      fill: #174EA6;\n",
              "    }\n",
              "\n",
              "    [theme=dark] .colab-df-convert {\n",
              "      background-color: #3B4455;\n",
              "      fill: #D2E3FC;\n",
              "    }\n",
              "\n",
              "    [theme=dark] .colab-df-convert:hover {\n",
              "      background-color: #434B5C;\n",
              "      box-shadow: 0px 1px 3px 1px rgba(0, 0, 0, 0.15);\n",
              "      filter: drop-shadow(0px 1px 2px rgba(0, 0, 0, 0.3));\n",
              "      fill: #FFFFFF;\n",
              "    }\n",
              "  </style>\n",
              "\n",
              "      <script>\n",
              "        const buttonEl =\n",
              "          document.querySelector('#df-dd13af1c-55e6-4ed5-858e-6fcdb4202147 button.colab-df-convert');\n",
              "        buttonEl.style.display =\n",
              "          google.colab.kernel.accessAllowed ? 'block' : 'none';\n",
              "\n",
              "        async function convertToInteractive(key) {\n",
              "          const element = document.querySelector('#df-dd13af1c-55e6-4ed5-858e-6fcdb4202147');\n",
              "          const dataTable =\n",
              "            await google.colab.kernel.invokeFunction('convertToInteractive',\n",
              "                                                     [key], {});\n",
              "          if (!dataTable) return;\n",
              "\n",
              "          const docLinkHtml = 'Like what you see? Visit the ' +\n",
              "            '<a target=\"_blank\" href=https://colab.research.google.com/notebooks/data_table.ipynb>data table notebook</a>'\n",
              "            + ' to learn more about interactive tables.';\n",
              "          element.innerHTML = '';\n",
              "          dataTable['output_type'] = 'display_data';\n",
              "          await google.colab.output.renderOutput(dataTable, element);\n",
              "          const docLink = document.createElement('div');\n",
              "          docLink.innerHTML = docLinkHtml;\n",
              "          element.appendChild(docLink);\n",
              "        }\n",
              "      </script>\n",
              "    </div>\n",
              "  </div>\n",
              "  "
            ]
          },
          "metadata": {},
          "execution_count": 3
        }
      ]
    },
    {
      "cell_type": "code",
      "source": [
        "df.tail()"
      ],
      "metadata": {
        "colab": {
          "base_uri": "https://localhost:8080/",
          "height": 206
        },
        "id": "zyGQbHfdTh1X",
        "outputId": "d2a6162f-8ba4-4e63-89b5-0ed9c0196e35"
      },
      "execution_count": 4,
      "outputs": [
        {
          "output_type": "execute_result",
          "data": {
            "text/plain": [
              "         Date    Open    High     Low    Last   Close  Total Trade Quantity  \\\n",
              "4  2018-09-24  233.55  239.20  230.75  234.00  233.30               3423509   \n",
              "3  2018-09-25  233.30  236.75  232.00  236.25  236.10               2349368   \n",
              "2  2018-09-26  240.00  240.00  232.50  235.00  234.25               2240909   \n",
              "1  2018-09-27  234.55  236.80  231.10  233.80  233.25               5082859   \n",
              "0  2018-09-28  234.05  235.95  230.20  233.50  233.75               3069914   \n",
              "\n",
              "   Turnover (Lacs)  \n",
              "4          7999.55  \n",
              "3          5503.90  \n",
              "2          5248.60  \n",
              "1         11859.95  \n",
              "0          7162.35  "
            ],
            "text/html": [
              "\n",
              "  <div id=\"df-12b02a1f-5381-4822-971e-f1e4ea8109a2\">\n",
              "    <div class=\"colab-df-container\">\n",
              "      <div>\n",
              "<style scoped>\n",
              "    .dataframe tbody tr th:only-of-type {\n",
              "        vertical-align: middle;\n",
              "    }\n",
              "\n",
              "    .dataframe tbody tr th {\n",
              "        vertical-align: top;\n",
              "    }\n",
              "\n",
              "    .dataframe thead th {\n",
              "        text-align: right;\n",
              "    }\n",
              "</style>\n",
              "<table border=\"1\" class=\"dataframe\">\n",
              "  <thead>\n",
              "    <tr style=\"text-align: right;\">\n",
              "      <th></th>\n",
              "      <th>Date</th>\n",
              "      <th>Open</th>\n",
              "      <th>High</th>\n",
              "      <th>Low</th>\n",
              "      <th>Last</th>\n",
              "      <th>Close</th>\n",
              "      <th>Total Trade Quantity</th>\n",
              "      <th>Turnover (Lacs)</th>\n",
              "    </tr>\n",
              "  </thead>\n",
              "  <tbody>\n",
              "    <tr>\n",
              "      <th>4</th>\n",
              "      <td>2018-09-24</td>\n",
              "      <td>233.55</td>\n",
              "      <td>239.20</td>\n",
              "      <td>230.75</td>\n",
              "      <td>234.00</td>\n",
              "      <td>233.30</td>\n",
              "      <td>3423509</td>\n",
              "      <td>7999.55</td>\n",
              "    </tr>\n",
              "    <tr>\n",
              "      <th>3</th>\n",
              "      <td>2018-09-25</td>\n",
              "      <td>233.30</td>\n",
              "      <td>236.75</td>\n",
              "      <td>232.00</td>\n",
              "      <td>236.25</td>\n",
              "      <td>236.10</td>\n",
              "      <td>2349368</td>\n",
              "      <td>5503.90</td>\n",
              "    </tr>\n",
              "    <tr>\n",
              "      <th>2</th>\n",
              "      <td>2018-09-26</td>\n",
              "      <td>240.00</td>\n",
              "      <td>240.00</td>\n",
              "      <td>232.50</td>\n",
              "      <td>235.00</td>\n",
              "      <td>234.25</td>\n",
              "      <td>2240909</td>\n",
              "      <td>5248.60</td>\n",
              "    </tr>\n",
              "    <tr>\n",
              "      <th>1</th>\n",
              "      <td>2018-09-27</td>\n",
              "      <td>234.55</td>\n",
              "      <td>236.80</td>\n",
              "      <td>231.10</td>\n",
              "      <td>233.80</td>\n",
              "      <td>233.25</td>\n",
              "      <td>5082859</td>\n",
              "      <td>11859.95</td>\n",
              "    </tr>\n",
              "    <tr>\n",
              "      <th>0</th>\n",
              "      <td>2018-09-28</td>\n",
              "      <td>234.05</td>\n",
              "      <td>235.95</td>\n",
              "      <td>230.20</td>\n",
              "      <td>233.50</td>\n",
              "      <td>233.75</td>\n",
              "      <td>3069914</td>\n",
              "      <td>7162.35</td>\n",
              "    </tr>\n",
              "  </tbody>\n",
              "</table>\n",
              "</div>\n",
              "      <button class=\"colab-df-convert\" onclick=\"convertToInteractive('df-12b02a1f-5381-4822-971e-f1e4ea8109a2')\"\n",
              "              title=\"Convert this dataframe to an interactive table.\"\n",
              "              style=\"display:none;\">\n",
              "        \n",
              "  <svg xmlns=\"http://www.w3.org/2000/svg\" height=\"24px\"viewBox=\"0 0 24 24\"\n",
              "       width=\"24px\">\n",
              "    <path d=\"M0 0h24v24H0V0z\" fill=\"none\"/>\n",
              "    <path d=\"M18.56 5.44l.94 2.06.94-2.06 2.06-.94-2.06-.94-.94-2.06-.94 2.06-2.06.94zm-11 1L8.5 8.5l.94-2.06 2.06-.94-2.06-.94L8.5 2.5l-.94 2.06-2.06.94zm10 10l.94 2.06.94-2.06 2.06-.94-2.06-.94-.94-2.06-.94 2.06-2.06.94z\"/><path d=\"M17.41 7.96l-1.37-1.37c-.4-.4-.92-.59-1.43-.59-.52 0-1.04.2-1.43.59L10.3 9.45l-7.72 7.72c-.78.78-.78 2.05 0 2.83L4 21.41c.39.39.9.59 1.41.59.51 0 1.02-.2 1.41-.59l7.78-7.78 2.81-2.81c.8-.78.8-2.07 0-2.86zM5.41 20L4 18.59l7.72-7.72 1.47 1.35L5.41 20z\"/>\n",
              "  </svg>\n",
              "      </button>\n",
              "      \n",
              "  <style>\n",
              "    .colab-df-container {\n",
              "      display:flex;\n",
              "      flex-wrap:wrap;\n",
              "      gap: 12px;\n",
              "    }\n",
              "\n",
              "    .colab-df-convert {\n",
              "      background-color: #E8F0FE;\n",
              "      border: none;\n",
              "      border-radius: 50%;\n",
              "      cursor: pointer;\n",
              "      display: none;\n",
              "      fill: #1967D2;\n",
              "      height: 32px;\n",
              "      padding: 0 0 0 0;\n",
              "      width: 32px;\n",
              "    }\n",
              "\n",
              "    .colab-df-convert:hover {\n",
              "      background-color: #E2EBFA;\n",
              "      box-shadow: 0px 1px 2px rgba(60, 64, 67, 0.3), 0px 1px 3px 1px rgba(60, 64, 67, 0.15);\n",
              "      fill: #174EA6;\n",
              "    }\n",
              "\n",
              "    [theme=dark] .colab-df-convert {\n",
              "      background-color: #3B4455;\n",
              "      fill: #D2E3FC;\n",
              "    }\n",
              "\n",
              "    [theme=dark] .colab-df-convert:hover {\n",
              "      background-color: #434B5C;\n",
              "      box-shadow: 0px 1px 3px 1px rgba(0, 0, 0, 0.15);\n",
              "      filter: drop-shadow(0px 1px 2px rgba(0, 0, 0, 0.3));\n",
              "      fill: #FFFFFF;\n",
              "    }\n",
              "  </style>\n",
              "\n",
              "      <script>\n",
              "        const buttonEl =\n",
              "          document.querySelector('#df-12b02a1f-5381-4822-971e-f1e4ea8109a2 button.colab-df-convert');\n",
              "        buttonEl.style.display =\n",
              "          google.colab.kernel.accessAllowed ? 'block' : 'none';\n",
              "\n",
              "        async function convertToInteractive(key) {\n",
              "          const element = document.querySelector('#df-12b02a1f-5381-4822-971e-f1e4ea8109a2');\n",
              "          const dataTable =\n",
              "            await google.colab.kernel.invokeFunction('convertToInteractive',\n",
              "                                                     [key], {});\n",
              "          if (!dataTable) return;\n",
              "\n",
              "          const docLinkHtml = 'Like what you see? Visit the ' +\n",
              "            '<a target=\"_blank\" href=https://colab.research.google.com/notebooks/data_table.ipynb>data table notebook</a>'\n",
              "            + ' to learn more about interactive tables.';\n",
              "          element.innerHTML = '';\n",
              "          dataTable['output_type'] = 'display_data';\n",
              "          await google.colab.output.renderOutput(dataTable, element);\n",
              "          const docLink = document.createElement('div');\n",
              "          docLink.innerHTML = docLinkHtml;\n",
              "          element.appendChild(docLink);\n",
              "        }\n",
              "      </script>\n",
              "    </div>\n",
              "  </div>\n",
              "  "
            ]
          },
          "metadata": {},
          "execution_count": 4
        }
      ]
    },
    {
      "cell_type": "code",
      "source": [
        "df.isnull().sum()"
      ],
      "metadata": {
        "colab": {
          "base_uri": "https://localhost:8080/"
        },
        "id": "-Zekz2nATkIc",
        "outputId": "8c329d34-9326-4e3f-f6b2-270fa39612df"
      },
      "execution_count": 5,
      "outputs": [
        {
          "output_type": "execute_result",
          "data": {
            "text/plain": [
              "Date                    0\n",
              "Open                    0\n",
              "High                    0\n",
              "Low                     0\n",
              "Last                    0\n",
              "Close                   0\n",
              "Total Trade Quantity    0\n",
              "Turnover (Lacs)         0\n",
              "dtype: int64"
            ]
          },
          "metadata": {},
          "execution_count": 5
        }
      ]
    },
    {
      "cell_type": "code",
      "source": [
        "df.shape"
      ],
      "metadata": {
        "colab": {
          "base_uri": "https://localhost:8080/"
        },
        "id": "h-C9TkFLTqlr",
        "outputId": "8ff3e365-c811-4fdc-f26e-39d1198a3d34"
      },
      "execution_count": 6,
      "outputs": [
        {
          "output_type": "execute_result",
          "data": {
            "text/plain": [
              "(2035, 8)"
            ]
          },
          "metadata": {},
          "execution_count": 6
        }
      ]
    },
    {
      "cell_type": "code",
      "source": [
        "df_high=df.reset_index()['High']"
      ],
      "metadata": {
        "id": "EGCFVMIBTzEc"
      },
      "execution_count": 7,
      "outputs": []
    },
    {
      "cell_type": "code",
      "source": [
        "plt.plot(df_high)"
      ],
      "metadata": {
        "colab": {
          "base_uri": "https://localhost:8080/",
          "height": 282
        },
        "id": "FeTcxyXWT486",
        "outputId": "4172ef9f-c0c5-463d-8231-76bdccf8cb8f"
      },
      "execution_count": 8,
      "outputs": [
        {
          "output_type": "execute_result",
          "data": {
            "text/plain": [
              "[<matplotlib.lines.Line2D at 0x7fea10c79250>]"
            ]
          },
          "metadata": {},
          "execution_count": 8
        },
        {
          "output_type": "display_data",
          "data": {
            "text/plain": [
              "<Figure size 432x288 with 1 Axes>"
            ],
            "image/png": "[encoded data removed]"
          },
          "metadata": {
            "needs_background": "light"
          }
        }
      ]
    },
    {
      "cell_type": "code",
      "source": [
        "scaler = MinMaxScaler(feature_range = (0,1))\n",
        "df_high = scaler.fit_transform(np.array(df_high).reshape(-1,1))"
      ],
      "metadata": {
        "id": "iKv0k8cfT-u2"
      },
      "execution_count": 9,
      "outputs": []
    },
    {
      "cell_type": "code",
      "source": [
        "df_high.shape"
      ],
      "metadata": {
        "colab": {
          "base_uri": "https://localhost:8080/"
        },
        "id": "efUkHxYuUBs9",
        "outputId": "21a0fadf-fb70-40be-f08a-67402b707143"
      },
      "execution_count": 10,
      "outputs": [
        {
          "output_type": "execute_result",
          "data": {
            "text/plain": [
              "(2035, 1)"
            ]
          },
          "metadata": {},
          "execution_count": 10
        }
      ]
    },
    {
      "cell_type": "code",
      "source": [
        "df_high"
      ],
      "metadata": {
        "colab": {
          "base_uri": "https://localhost:8080/"
        },
        "id": "DmHaHUk4UFBe",
        "outputId": "1b3f5748-3b85-4310-a956-5ef1065c0d4a"
      },
      "execution_count": 11,
      "outputs": [
        {
          "output_type": "execute_result",
          "data": {
            "text/plain": [
              "array([[0.16344786],\n",
              "       [0.15938199],\n",
              "       [0.15917869],\n",
              "       ...,\n",
              "       [0.6391543 ],\n",
              "       [0.62614353],\n",
              "       [0.62268754]])"
            ]
          },
          "metadata": {},
          "execution_count": 11
        }
      ]
    },
    {
      "cell_type": "markdown",
      "source": [
        "#Split the data into train and test split"
      ],
      "metadata": {
        "id": "7d9sXGGNUI27"
      }
    },
    {
      "cell_type": "code",
      "source": [
        "training_size = int(len(df_high) * 0.75)\n",
        "test_size = len(df_high) - training_size\n",
        "train_data, test_data = df_high[0:training_size,:], df_high[training_size:len(df_high),:1]"
      ],
      "metadata": {
        "id": "OOstZ8uWULK1"
      },
      "execution_count": 12,
      "outputs": []
    },
    {
      "cell_type": "code",
      "source": [
        "training_size,test_size"
      ],
      "metadata": {
        "colab": {
          "base_uri": "https://localhost:8080/"
        },
        "id": "Ob9WQx1DUUBu",
        "outputId": "d0dc8d3d-0e89-431c-c764-43faa8f5cee5"
      },
      "execution_count": 13,
      "outputs": [
        {
          "output_type": "execute_result",
          "data": {
            "text/plain": [
              "(1526, 509)"
            ]
          },
          "metadata": {},
          "execution_count": 13
        }
      ]
    },
    {
      "cell_type": "code",
      "source": [
        "def create_dataset(dataset, time_step = 1):\n",
        "    dataX, dataY = [], []\n",
        "    for i in range(len(dataset) - time_step - 1):\n",
        "        a = dataset[i:(i+time_step), 0]\n",
        "        dataX.append(a)\n",
        "        dataY.append(dataset[i+time_step, 0])\n",
        "    return np.array(dataX), np.array(dataY)"
      ],
      "metadata": {
        "id": "rfk1Jp2YUXRm"
      },
      "execution_count": 14,
      "outputs": []
    },
    {
      "cell_type": "code",
      "source": [
        "time_step = 100\n",
        "x_train, y_train = create_dataset(train_data, time_step)\n",
        "x_test, y_test = create_dataset(test_data, time_step)"
      ],
      "metadata": {
        "id": "Psz6nppOUbSe"
      },
      "execution_count": 15,
      "outputs": []
    },
    {
      "cell_type": "markdown",
      "source": [
        "Reshape the input to be [samples, time steps, features] which is the requirement of LSTM"
      ],
      "metadata": {
        "id": "NqD9PNxxUfRC"
      }
    },
    {
      "cell_type": "code",
      "source": [
        "x_train = x_train.reshape(x_train.shape[0], x_train.shape[1], 1)\n",
        "x_test = x_test.reshape(x_test.shape[0], x_test.shape[1], 1)"
      ],
      "metadata": {
        "id": "IVV4MCQ5UiNj"
      },
      "execution_count": 16,
      "outputs": []
    },
    {
      "cell_type": "markdown",
      "source": [
        "Printing the traning set size"
      ],
      "metadata": {
        "id": "98CZDffPU9PQ"
      }
    },
    {
      "cell_type": "code",
      "source": [
        "print(x_train.shape), print(y_train.shape)"
      ],
      "metadata": {
        "colab": {
          "base_uri": "https://localhost:8080/"
        },
        "id": "ccBtBxvVU2Og",
        "outputId": "2885230a-13f2-498b-f2f3-d58840abc2f6"
      },
      "execution_count": 18,
      "outputs": [
        {
          "output_type": "stream",
          "name": "stdout",
          "text": [
            "(1425, 100, 1)\n",
            "(1425,)\n"
          ]
        },
        {
          "output_type": "execute_result",
          "data": {
            "text/plain": [
              "(None, None)"
            ]
          },
          "metadata": {},
          "execution_count": 18
        }
      ]
    },
    {
      "cell_type": "markdown",
      "source": [
        "Printing the test set size"
      ],
      "metadata": {
        "id": "s3HkV4GtVF95"
      }
    },
    {
      "cell_type": "code",
      "source": [
        "print(x_test.shape), print(y_test.shape)"
      ],
      "metadata": {
        "colab": {
          "base_uri": "https://localhost:8080/"
        },
        "id": "_vwvWkWfU56i",
        "outputId": "ca56b70f-cc9f-4280-a561-6df9eb25ec86"
      },
      "execution_count": 19,
      "outputs": [
        {
          "output_type": "stream",
          "name": "stdout",
          "text": [
            "(408, 100, 1)\n",
            "(408,)\n"
          ]
        },
        {
          "output_type": "execute_result",
          "data": {
            "text/plain": [
              "(None, None)"
            ]
          },
          "metadata": {},
          "execution_count": 19
        }
      ]
    },
    {
      "cell_type": "markdown",
      "source": [
        "#Create the Long Term Short Model"
      ],
      "metadata": {
        "id": "5LqUsIF0VOx_"
      }
    },
    {
      "cell_type": "code",
      "source": [
        "model = Sequential()\n",
        "model.add(LSTM(50, return_sequences = True, input_shape = (100,1)))\n",
        "model.add(LSTM(50, return_sequences = True))\n",
        "model.add(LSTM(50))\n",
        "model.add(Dense(1))\n",
        "model.compile(loss = 'mean_squared_error', optimizer = 'adam')"
      ],
      "metadata": {
        "id": "LPU4GyTEVXEF"
      },
      "execution_count": 20,
      "outputs": []
    },
    {
      "cell_type": "code",
      "source": [
        "model.summary()"
      ],
      "metadata": {
        "colab": {
          "base_uri": "https://localhost:8080/"
        },
        "id": "TKh1VRxXVcDw",
        "outputId": "bd3d4464-731a-44bd-e8f7-c2071e5fde1a"
      },
      "execution_count": 21,
      "outputs": [
        {
          "output_type": "stream",
          "name": "stdout",
          "text": [
            "Model: \"sequential\"\n",
            "_________________________________________________________________\n",
            "Layer (type)                 Output Shape              Param #   \n",
            "=================================================================\n",
            "lstm (LSTM)                  (None, 100, 50)           10400     \n",
            "_________________________________________________________________\n",
            "lstm_1 (LSTM)                (None, 100, 50)           20200     \n",
            "_________________________________________________________________\n",
            "lstm_2 (LSTM)                (None, 50)                20200     \n",
            "_________________________________________________________________\n",
            "dense (Dense)                (None, 1)                 51        \n",
            "=================================================================\n",
            "Total params: 50,851\n",
            "Trainable params: 50,851\n",
            "Non-trainable params: 0\n",
            "_________________________________________________________________\n"
          ]
        }
      ]
    },
    {
      "cell_type": "code",
      "source": [
        "model.fit(x_train, y_train, validation_data = (x_test, y_test), epochs = 100, batch_size = 64, verbose = 1)"
      ],
      "metadata": {
        "colab": {
          "base_uri": "https://localhost:8080/"
        },
        "id": "m1GOidK_Vkk1",
        "outputId": "172fd3b5-48ea-470b-afd0-03e0f37ccb7f"
      },
      "execution_count": 22,
      "outputs": [
        {
          "output_type": "stream",
          "name": "stdout",
          "text": [
            "Epoch 1/100\n",
            "23/23 [==============================] - 17s 400ms/step - loss: 0.0120 - val_loss: 0.0364\n",
            "Epoch 2/100\n",
            "23/23 [==============================] - 8s 368ms/step - loss: 0.0019 - val_loss: 0.0036\n",
            "Epoch 3/100\n",
            "23/23 [==============================] - 8s 364ms/step - loss: 8.2262e-04 - val_loss: 0.0030\n",
            "Epoch 4/100\n",
            "23/23 [==============================] - 8s 358ms/step - loss: 7.8588e-04 - val_loss: 0.0036\n",
            "Epoch 5/100\n",
            "23/23 [==============================] - 8s 357ms/step - loss: 7.3280e-04 - val_loss: 0.0035\n",
            "Epoch 6/100\n",
            "23/23 [==============================] - 8s 359ms/step - loss: 7.2270e-04 - val_loss: 0.0029\n",
            "Epoch 7/100\n",
            "23/23 [==============================] - 8s 361ms/step - loss: 6.7160e-04 - val_loss: 0.0026\n",
            "Epoch 8/100\n",
            "23/23 [==============================] - 9s 372ms/step - loss: 6.5945e-04 - val_loss: 0.0027\n",
            "Epoch 9/100\n",
            "23/23 [==============================] - 8s 360ms/step - loss: 6.3613e-04 - val_loss: 0.0058\n",
            "Epoch 10/100\n",
            "23/23 [==============================] - 9s 399ms/step - loss: 7.2371e-04 - val_loss: 0.0029\n",
            "Epoch 11/100\n",
            "23/23 [==============================] - 8s 356ms/step - loss: 6.5056e-04 - val_loss: 0.0044\n",
            "Epoch 12/100\n",
            "23/23 [==============================] - 10s 442ms/step - loss: 5.5314e-04 - val_loss: 0.0039\n",
            "Epoch 13/100\n",
            "23/23 [==============================] - 8s 366ms/step - loss: 5.6252e-04 - val_loss: 0.0068\n",
            "Epoch 14/100\n",
            "23/23 [==============================] - 8s 362ms/step - loss: 5.9196e-04 - val_loss: 0.0049\n",
            "Epoch 15/100\n",
            "23/23 [==============================] - 8s 357ms/step - loss: 5.3604e-04 - val_loss: 0.0091\n",
            "Epoch 16/100\n",
            "23/23 [==============================] - 8s 361ms/step - loss: 5.3130e-04 - val_loss: 0.0037\n",
            "Epoch 17/100\n",
            "23/23 [==============================] - 8s 369ms/step - loss: 4.9143e-04 - val_loss: 0.0052\n",
            "Epoch 18/100\n",
            "23/23 [==============================] - 8s 358ms/step - loss: 5.1606e-04 - val_loss: 0.0035\n",
            "Epoch 19/100\n",
            "23/23 [==============================] - 8s 369ms/step - loss: 4.8603e-04 - val_loss: 0.0063\n",
            "Epoch 20/100\n",
            "23/23 [==============================] - 8s 360ms/step - loss: 4.6260e-04 - val_loss: 0.0079\n",
            "Epoch 21/100\n",
            "23/23 [==============================] - 8s 368ms/step - loss: 4.4269e-04 - val_loss: 0.0066\n",
            "Epoch 22/100\n",
            "23/23 [==============================] - 8s 357ms/step - loss: 4.4363e-04 - val_loss: 0.0061\n",
            "Epoch 23/100\n",
            "23/23 [==============================] - 8s 365ms/step - loss: 4.2082e-04 - val_loss: 0.0046\n",
            "Epoch 24/100\n",
            "23/23 [==============================] - 8s 358ms/step - loss: 4.2675e-04 - val_loss: 0.0046\n",
            "Epoch 25/100\n",
            "23/23 [==============================] - 8s 369ms/step - loss: 4.2726e-04 - val_loss: 0.0042\n",
            "Epoch 26/100\n",
            "23/23 [==============================] - 8s 360ms/step - loss: 4.0481e-04 - val_loss: 0.0032\n",
            "Epoch 27/100\n",
            "23/23 [==============================] - 8s 364ms/step - loss: 4.3462e-04 - val_loss: 0.0083\n",
            "Epoch 28/100\n",
            "23/23 [==============================] - 8s 356ms/step - loss: 4.0004e-04 - val_loss: 0.0066\n",
            "Epoch 29/100\n",
            "23/23 [==============================] - 8s 362ms/step - loss: 3.6663e-04 - val_loss: 0.0035\n",
            "Epoch 30/100\n",
            "23/23 [==============================] - 8s 357ms/step - loss: 3.5202e-04 - val_loss: 0.0053\n",
            "Epoch 31/100\n",
            "23/23 [==============================] - 8s 364ms/step - loss: 3.6079e-04 - val_loss: 0.0030\n",
            "Epoch 32/100\n",
            "23/23 [==============================] - 8s 355ms/step - loss: 3.3706e-04 - val_loss: 0.0045\n",
            "Epoch 33/100\n",
            "23/23 [==============================] - 8s 360ms/step - loss: 3.3143e-04 - val_loss: 0.0025\n",
            "Epoch 34/100\n",
            "23/23 [==============================] - 8s 360ms/step - loss: 3.1281e-04 - val_loss: 0.0031\n",
            "Epoch 35/100\n",
            "23/23 [==============================] - 8s 356ms/step - loss: 3.4867e-04 - val_loss: 0.0017\n",
            "Epoch 36/100\n",
            "23/23 [==============================] - 8s 356ms/step - loss: 3.3235e-04 - val_loss: 0.0018\n",
            "Epoch 37/100\n",
            "23/23 [==============================] - 8s 353ms/step - loss: 3.0279e-04 - val_loss: 0.0029\n",
            "Epoch 38/100\n",
            "23/23 [==============================] - 8s 356ms/step - loss: 2.9070e-04 - val_loss: 0.0027\n",
            "Epoch 39/100\n",
            "23/23 [==============================] - 8s 361ms/step - loss: 2.8233e-04 - val_loss: 8.8954e-04\n",
            "Epoch 40/100\n",
            "23/23 [==============================] - 8s 365ms/step - loss: 2.7950e-04 - val_loss: 0.0011\n",
            "Epoch 41/100\n",
            "23/23 [==============================] - 8s 358ms/step - loss: 2.6723e-04 - val_loss: 7.6519e-04\n",
            "Epoch 42/100\n",
            "23/23 [==============================] - 8s 365ms/step - loss: 2.7676e-04 - val_loss: 0.0018\n",
            "Epoch 43/100\n",
            "23/23 [==============================] - 8s 351ms/step - loss: 2.5872e-04 - val_loss: 9.3742e-04\n",
            "Epoch 44/100\n",
            "23/23 [==============================] - 8s 362ms/step - loss: 2.5785e-04 - val_loss: 9.5305e-04\n",
            "Epoch 45/100\n",
            "23/23 [==============================] - 8s 360ms/step - loss: 2.4702e-04 - val_loss: 8.1127e-04\n",
            "Epoch 46/100\n",
            "23/23 [==============================] - 8s 355ms/step - loss: 2.3142e-04 - val_loss: 8.8355e-04\n",
            "Epoch 47/100\n",
            "23/23 [==============================] - 8s 361ms/step - loss: 2.2980e-04 - val_loss: 0.0010\n",
            "Epoch 48/100\n",
            "23/23 [==============================] - 8s 360ms/step - loss: 2.3717e-04 - val_loss: 7.0943e-04\n",
            "Epoch 49/100\n",
            "23/23 [==============================] - 8s 362ms/step - loss: 2.1318e-04 - val_loss: 0.0011\n",
            "Epoch 50/100\n",
            "23/23 [==============================] - 8s 366ms/step - loss: 2.1278e-04 - val_loss: 0.0011\n",
            "Epoch 51/100\n",
            "23/23 [==============================] - 8s 357ms/step - loss: 2.1320e-04 - val_loss: 9.7155e-04\n",
            "Epoch 52/100\n",
            "23/23 [==============================] - 8s 361ms/step - loss: 2.3497e-04 - val_loss: 0.0012\n",
            "Epoch 53/100\n",
            "23/23 [==============================] - 8s 364ms/step - loss: 2.1265e-04 - val_loss: 7.0450e-04\n",
            "Epoch 54/100\n",
            "23/23 [==============================] - 8s 360ms/step - loss: 1.8072e-04 - val_loss: 9.6940e-04\n",
            "Epoch 55/100\n",
            "23/23 [==============================] - 8s 358ms/step - loss: 2.1867e-04 - val_loss: 0.0011\n",
            "Epoch 56/100\n",
            "23/23 [==============================] - 8s 361ms/step - loss: 1.9002e-04 - val_loss: 0.0016\n",
            "Epoch 57/100\n",
            "23/23 [==============================] - 8s 357ms/step - loss: 1.7291e-04 - val_loss: 7.3307e-04\n",
            "Epoch 58/100\n",
            "23/23 [==============================] - 8s 354ms/step - loss: 1.6686e-04 - val_loss: 0.0011\n",
            "Epoch 59/100\n",
            "23/23 [==============================] - 8s 359ms/step - loss: 1.5693e-04 - val_loss: 0.0042\n",
            "Epoch 60/100\n",
            "23/23 [==============================] - 8s 351ms/step - loss: 2.3591e-04 - val_loss: 0.0028\n",
            "Epoch 61/100\n",
            "23/23 [==============================] - 8s 369ms/step - loss: 1.6687e-04 - val_loss: 7.4644e-04\n",
            "Epoch 62/100\n",
            "23/23 [==============================] - 8s 359ms/step - loss: 1.6764e-04 - val_loss: 6.8128e-04\n",
            "Epoch 63/100\n",
            "23/23 [==============================] - 8s 360ms/step - loss: 1.4906e-04 - val_loss: 0.0011\n",
            "Epoch 64/100\n",
            "23/23 [==============================] - 8s 368ms/step - loss: 1.5458e-04 - val_loss: 0.0018\n",
            "Epoch 65/100\n",
            "23/23 [==============================] - 8s 356ms/step - loss: 1.5718e-04 - val_loss: 0.0011\n",
            "Epoch 66/100\n",
            "23/23 [==============================] - 8s 357ms/step - loss: 1.3660e-04 - val_loss: 0.0014\n",
            "Epoch 67/100\n",
            "23/23 [==============================] - 8s 361ms/step - loss: 1.3938e-04 - val_loss: 0.0012\n",
            "Epoch 68/100\n",
            "23/23 [==============================] - 8s 353ms/step - loss: 1.4243e-04 - val_loss: 8.5501e-04\n",
            "Epoch 69/100\n",
            "23/23 [==============================] - 8s 363ms/step - loss: 1.3268e-04 - val_loss: 0.0014\n",
            "Epoch 70/100\n",
            "23/23 [==============================] - 8s 358ms/step - loss: 1.3744e-04 - val_loss: 0.0027\n",
            "Epoch 71/100\n",
            "23/23 [==============================] - 8s 361ms/step - loss: 1.5858e-04 - val_loss: 0.0016\n",
            "Epoch 72/100\n",
            "23/23 [==============================] - 8s 352ms/step - loss: 1.4806e-04 - val_loss: 8.0805e-04\n",
            "Epoch 73/100\n",
            "23/23 [==============================] - 8s 350ms/step - loss: 1.3231e-04 - val_loss: 6.1783e-04\n",
            "Epoch 74/100\n",
            "23/23 [==============================] - 8s 355ms/step - loss: 1.8473e-04 - val_loss: 5.6265e-04\n",
            "Epoch 75/100\n",
            "23/23 [==============================] - 8s 360ms/step - loss: 1.5974e-04 - val_loss: 6.6528e-04\n",
            "Epoch 76/100\n",
            "23/23 [==============================] - 8s 361ms/step - loss: 1.2791e-04 - val_loss: 5.9759e-04\n",
            "Epoch 77/100\n",
            "23/23 [==============================] - 8s 354ms/step - loss: 1.3979e-04 - val_loss: 8.2831e-04\n",
            "Epoch 78/100\n",
            "23/23 [==============================] - 8s 356ms/step - loss: 1.2219e-04 - val_loss: 8.1399e-04\n",
            "Epoch 79/100\n",
            "23/23 [==============================] - 8s 354ms/step - loss: 1.2336e-04 - val_loss: 0.0013\n",
            "Epoch 80/100\n",
            "23/23 [==============================] - 8s 356ms/step - loss: 1.5000e-04 - val_loss: 6.2301e-04\n",
            "Epoch 81/100\n",
            "23/23 [==============================] - 8s 353ms/step - loss: 1.6585e-04 - val_loss: 0.0011\n",
            "Epoch 82/100\n",
            "23/23 [==============================] - 8s 357ms/step - loss: 1.4448e-04 - val_loss: 5.6123e-04\n",
            "Epoch 83/100\n",
            "23/23 [==============================] - 8s 358ms/step - loss: 1.3866e-04 - val_loss: 0.0019\n",
            "Epoch 84/100\n",
            "23/23 [==============================] - 8s 359ms/step - loss: 1.3866e-04 - val_loss: 5.6066e-04\n",
            "Epoch 85/100\n",
            "23/23 [==============================] - 8s 370ms/step - loss: 1.3942e-04 - val_loss: 5.5168e-04\n",
            "Epoch 86/100\n",
            "23/23 [==============================] - 8s 358ms/step - loss: 1.3719e-04 - val_loss: 9.1160e-04\n",
            "Epoch 87/100\n",
            "23/23 [==============================] - 8s 349ms/step - loss: 1.2233e-04 - val_loss: 5.5015e-04\n",
            "Epoch 88/100\n",
            "23/23 [==============================] - 8s 349ms/step - loss: 1.1926e-04 - val_loss: 4.9898e-04\n",
            "Epoch 89/100\n",
            "23/23 [==============================] - 8s 351ms/step - loss: 1.1612e-04 - val_loss: 5.4052e-04\n",
            "Epoch 90/100\n",
            "23/23 [==============================] - 8s 359ms/step - loss: 1.1361e-04 - val_loss: 7.8675e-04\n",
            "Epoch 91/100\n",
            "23/23 [==============================] - 8s 358ms/step - loss: 1.1635e-04 - val_loss: 4.8773e-04\n",
            "Epoch 92/100\n",
            "23/23 [==============================] - 8s 350ms/step - loss: 1.1888e-04 - val_loss: 4.8583e-04\n",
            "Epoch 93/100\n",
            "23/23 [==============================] - 8s 357ms/step - loss: 1.1396e-04 - val_loss: 4.4338e-04\n",
            "Epoch 94/100\n",
            "23/23 [==============================] - 8s 354ms/step - loss: 1.1597e-04 - val_loss: 5.5773e-04\n",
            "Epoch 95/100\n",
            "23/23 [==============================] - 8s 358ms/step - loss: 1.4390e-04 - val_loss: 0.0018\n",
            "Epoch 96/100\n",
            "23/23 [==============================] - 8s 360ms/step - loss: 1.3446e-04 - val_loss: 4.1159e-04\n",
            "Epoch 97/100\n",
            "23/23 [==============================] - 8s 346ms/step - loss: 1.2213e-04 - val_loss: 4.0209e-04\n",
            "Epoch 98/100\n",
            "23/23 [==============================] - 8s 369ms/step - loss: 1.1408e-04 - val_loss: 5.4009e-04\n",
            "Epoch 99/100\n",
            "23/23 [==============================] - 8s 350ms/step - loss: 1.1481e-04 - val_loss: 4.1002e-04\n",
            "Epoch 100/100\n",
            "23/23 [==============================] - 8s 351ms/step - loss: 1.1551e-04 - val_loss: 3.9703e-04\n"
          ]
        },
        {
          "output_type": "execute_result",
          "data": {
            "text/plain": [
              "<tensorflow.python.keras.callbacks.History at 0x7fea0bf2af10>"
            ]
          },
          "metadata": {},
          "execution_count": 22
        }
      ]
    },
    {
      "cell_type": "markdown",
      "source": [
        "Predicting and Checking the performance Matrix"
      ],
      "metadata": {
        "id": "C0YwKgNsZlbd"
      }
    },
    {
      "cell_type": "code",
      "source": [
        "train_predict = model.predict(x_train)\n",
        "test_predict = model.predict(x_test)"
      ],
      "metadata": {
        "id": "BKW-VNXIZr2v"
      },
      "execution_count": 23,
      "outputs": []
    },
    {
      "cell_type": "markdown",
      "source": [
        "Transform back to original form"
      ],
      "metadata": {
        "id": "X59_fP20Zv_O"
      }
    },
    {
      "cell_type": "code",
      "source": [
        "train_predict = scaler.inverse_transform(train_predict)\n",
        "test_predict = scaler.inverse_transform(test_predict)"
      ],
      "metadata": {
        "id": "wj1C8BToZxv0"
      },
      "execution_count": 24,
      "outputs": []
    },
    {
      "cell_type": "markdown",
      "source": [
        "Calculate RMSE performance metrics"
      ],
      "metadata": {
        "id": "gu9O2KJeZz14"
      }
    },
    {
      "cell_type": "code",
      "source": [
        "math.sqrt(mean_squared_error(y_train, train_predict))"
      ],
      "metadata": {
        "colab": {
          "base_uri": "https://localhost:8080/"
        },
        "id": "KyjbmLuDZ23V",
        "outputId": "36690108-1038-492f-a065-3f61dbf0c0e6"
      },
      "execution_count": 25,
      "outputs": [
        {
          "output_type": "execute_result",
          "data": {
            "text/plain": [
              "136.75682428280058"
            ]
          },
          "metadata": {},
          "execution_count": 25
        }
      ]
    },
    {
      "cell_type": "markdown",
      "source": [
        "Test Data RMSE"
      ],
      "metadata": {
        "id": "DkKjnpUKZ7-2"
      }
    },
    {
      "cell_type": "code",
      "source": [
        "\n",
        "math.sqrt(mean_squared_error(y_test, test_predict))"
      ],
      "metadata": {
        "colab": {
          "base_uri": "https://localhost:8080/"
        },
        "id": "pSYxpQBJZ889",
        "outputId": "b3fdc849-ded4-4c7b-80a5-cdd40d6a2e67"
      },
      "execution_count": 26,
      "outputs": [
        {
          "output_type": "execute_result",
          "data": {
            "text/plain": [
              "233.29983185911985"
            ]
          },
          "metadata": {},
          "execution_count": 26
        }
      ]
    },
    {
      "cell_type": "markdown",
      "source": [
        "#Plotting\n",
        "\n"
      ],
      "metadata": {
        "id": "5mOA8OTsaCym"
      }
    },
    {
      "cell_type": "code",
      "source": [
        "#Shift train prediction for plotting\n",
        "look_back = 100\n",
        "trainPredictPlot = np.empty_like(df_high)\n",
        "trainPredictPlot[:,:] = np.nan\n",
        "trainPredictPlot[look_back:len(train_predict) + look_back, :] = train_predict\n",
        "\n",
        "#Shift test prediction for plotting\n",
        "testPredictPlot = np.empty_like(df_high)\n",
        "testPredictPlot[:,:] = np.nan\n",
        "testPredictPlot[len(train_predict) + (look_back * 2)+1:len(df_high) - 1, :] = test_predict\n",
        "\n",
        "#Plot baseline and predictions\n",
        "plt.plot(scaler.inverse_transform(df_high))\n",
        "plt.plot(trainPredictPlot)\n",
        "plt.plot(testPredictPlot)\n",
        "plt.show()\n"
      ],
      "metadata": {
        "colab": {
          "base_uri": "https://localhost:8080/",
          "height": 265
        },
        "id": "4d2Hi7t0aHQ6",
        "outputId": "d7317c43-1c92-43ea-f0e6-93bb49060e63"
      },
      "execution_count": 27,
      "outputs": [
        {
          "output_type": "display_data",
          "data": {
            "text/plain": [
              "<Figure size 432x288 with 1 Axes>"
            ],
            "image/png": "[encoded data removed]"
          },
          "metadata": {
            "needs_background": "light"
          }
        }
      ]
    },
    {
      "cell_type": "markdown",
      "source": [
        "Blue - complete data \n",
        "Orange - Traing data\n",
        "Green - Predicted data"
      ],
      "metadata": {
        "id": "dMA7vttnaQtg"
      }
    },
    {
      "cell_type": "markdown",
      "source": [
        ""
      ],
      "metadata": {
        "id": "kWIgtABUab6b"
      }
    },
    {
      "cell_type": "markdown",
      "source": [
        "#Predict the next 28 days Stock Price"
      ],
      "metadata": {
        "id": "aWA89MnSasFQ"
      }
    },
    {
      "cell_type": "code",
      "source": [
        "len(test_data), x_test.shape"
      ],
      "metadata": {
        "colab": {
          "base_uri": "https://localhost:8080/"
        },
        "id": "C6ZkW9GqavI8",
        "outputId": "b6341bdb-e5e6-4351-9443-93190a88b998"
      },
      "execution_count": 28,
      "outputs": [
        {
          "output_type": "execute_result",
          "data": {
            "text/plain": [
              "(509, (408, 100, 1))"
            ]
          },
          "metadata": {},
          "execution_count": 28
        }
      ]
    },
    {
      "cell_type": "code",
      "source": [
        "x_input = test_data[409:].reshape(1,-1)\n",
        "x_input.shape"
      ],
      "metadata": {
        "colab": {
          "base_uri": "https://localhost:8080/"
        },
        "id": "iKMESfEvaz15",
        "outputId": "cb92b142-f906-4ca5-be5a-4608b04e8b09"
      },
      "execution_count": 29,
      "outputs": [
        {
          "output_type": "execute_result",
          "data": {
            "text/plain": [
              "(1, 100)"
            ]
          },
          "metadata": {},
          "execution_count": 29
        }
      ]
    },
    {
      "cell_type": "code",
      "source": [
        "temp_input = list(x_input)\n",
        "temp_input = temp_input[0].tolist()"
      ],
      "metadata": {
        "id": "ZwFYt4ZeazvI"
      },
      "execution_count": 30,
      "outputs": []
    },
    {
      "cell_type": "code",
      "source": [
        "lst_output=[]\n",
        "n_steps=100\n",
        "nextNumberOfDays = 28\n",
        "i=0\n",
        "\n",
        "while(i<nextNumberOfDays):\n",
        "    \n",
        "    if(len(temp_input)>100):\n",
        "        x_input=np.array(temp_input[1:])\n",
        "        print(\"{} day input {}\".format(i,x_input))\n",
        "        x_input=x_input.reshape(1,-1)\n",
        "        x_input = x_input.reshape((1, n_steps, 1))\n",
        "        yhat = model.predict(x_input, verbose=0)\n",
        "        print(\"{} day output {}\".format(i,yhat))\n",
        "        temp_input.extend(yhat[0].tolist())\n",
        "        temp_input=temp_input[1:]\n",
        "        lst_output.extend(yhat.tolist())\n",
        "        i=i+1\n",
        "    else:\n",
        "        x_input = x_input.reshape((1, n_steps,1))\n",
        "        yhat = model.predict(x_input, verbose=0)\n",
        "        print(yhat[0])\n",
        "        temp_input.extend(yhat[0].tolist())\n",
        "        print(len(temp_input))\n",
        "        lst_output.extend(yhat.tolist())\n",
        "        i=i+1\n",
        "    \n",
        "\n",
        "print(lst_output)"
      ],
      "metadata": {
        "colab": {
          "base_uri": "https://localhost:8080/"
        },
        "id": "Y2w3nwAIa6qy",
        "outputId": "19ebefb3-d153-4df1-b332-f42bb5e8f89a"
      },
      "execution_count": 31,
      "outputs": [
        {
          "output_type": "stream",
          "name": "stdout",
          "text": [
            "[0.620014]\n",
            "101\n",
            "1 day input [0.86013417 0.85464525 0.84448059 0.8072779  0.71843871 0.66192316\n",
            " 0.67696686 0.67554381 0.67310429 0.68428542 0.68936776 0.70217524\n",
            " 0.71803212 0.72941655 0.73144948 0.74486684 0.76926205 0.75991055\n",
            " 0.74242732 0.73958122 0.74771295 0.75991055 0.7584875  0.76621264\n",
            " 0.75462492 0.76316324 0.79670665 0.80585485 0.7889815  0.78003659\n",
            " 0.73978451 0.73002643 0.73490547 0.74872942 0.75991055 0.75462492\n",
            " 0.75401504 0.76174019 0.7737345  0.82008538 0.80585485 0.81154706\n",
            " 0.77434438 0.78633869 0.79284407 0.78328929 0.77109169 0.74385038\n",
            " 0.71193332 0.68733482 0.67818662 0.65257166 0.64301687 0.65643423\n",
            " 0.67656028 0.67371417 0.65114861 0.65521447 0.66761537 0.67838992\n",
            " 0.69993901 0.63122586 0.63508843 0.64098394 0.64545639 0.64118723\n",
            " 0.63854442 0.63081927 0.62472047 0.6330555  0.64728603 0.6574507\n",
            " 0.66761537 0.66720878 0.64159382 0.62776987 0.63651149 0.63630819\n",
            " 0.62980281 0.62817646 0.63813783 0.65358813 0.63183574 0.57653995\n",
            " 0.57816629 0.57613336 0.61943484 0.57979264 0.57288067 0.62573694\n",
            " 0.63102257 0.6361049  0.62776987 0.6269567  0.63590161 0.62594023\n",
            " 0.6391543  0.62614353 0.62268754 0.62001401]\n",
            "1 day output [[0.61194557]]\n",
            "2 day input [0.85464525 0.84448059 0.8072779  0.71843871 0.66192316 0.67696686\n",
            " 0.67554381 0.67310429 0.68428542 0.68936776 0.70217524 0.71803212\n",
            " 0.72941655 0.73144948 0.74486684 0.76926205 0.75991055 0.74242732\n",
            " 0.73958122 0.74771295 0.75991055 0.7584875  0.76621264 0.75462492\n",
            " 0.76316324 0.79670665 0.80585485 0.7889815  0.78003659 0.73978451\n",
            " 0.73002643 0.73490547 0.74872942 0.75991055 0.75462492 0.75401504\n",
            " 0.76174019 0.7737345  0.82008538 0.80585485 0.81154706 0.77434438\n",
            " 0.78633869 0.79284407 0.78328929 0.77109169 0.74385038 0.71193332\n",
            " 0.68733482 0.67818662 0.65257166 0.64301687 0.65643423 0.67656028\n",
            " 0.67371417 0.65114861 0.65521447 0.66761537 0.67838992 0.69993901\n",
            " 0.63122586 0.63508843 0.64098394 0.64545639 0.64118723 0.63854442\n",
            " 0.63081927 0.62472047 0.6330555  0.64728603 0.6574507  0.66761537\n",
            " 0.66720878 0.64159382 0.62776987 0.63651149 0.63630819 0.62980281\n",
            " 0.62817646 0.63813783 0.65358813 0.63183574 0.57653995 0.57816629\n",
            " 0.57613336 0.61943484 0.57979264 0.57288067 0.62573694 0.63102257\n",
            " 0.6361049  0.62776987 0.6269567  0.63590161 0.62594023 0.6391543\n",
            " 0.62614353 0.62268754 0.62001401 0.61194557]\n",
            "2 day output [[0.60529506]]\n",
            "3 day input [0.84448059 0.8072779  0.71843871 0.66192316 0.67696686 0.67554381\n",
            " 0.67310429 0.68428542 0.68936776 0.70217524 0.71803212 0.72941655\n",
            " 0.73144948 0.74486684 0.76926205 0.75991055 0.74242732 0.73958122\n",
            " 0.74771295 0.75991055 0.7584875  0.76621264 0.75462492 0.76316324\n",
            " 0.79670665 0.80585485 0.7889815  0.78003659 0.73978451 0.73002643\n",
            " 0.73490547 0.74872942 0.75991055 0.75462492 0.75401504 0.76174019\n",
            " 0.7737345  0.82008538 0.80585485 0.81154706 0.77434438 0.78633869\n",
            " 0.79284407 0.78328929 0.77109169 0.74385038 0.71193332 0.68733482\n",
            " 0.67818662 0.65257166 0.64301687 0.65643423 0.67656028 0.67371417\n",
            " 0.65114861 0.65521447 0.66761537 0.67838992 0.69993901 0.63122586\n",
            " 0.63508843 0.64098394 0.64545639 0.64118723 0.63854442 0.63081927\n",
            " 0.62472047 0.6330555  0.64728603 0.6574507  0.66761537 0.66720878\n",
            " 0.64159382 0.62776987 0.63651149 0.63630819 0.62980281 0.62817646\n",
            " 0.63813783 0.65358813 0.63183574 0.57653995 0.57816629 0.57613336\n",
            " 0.61943484 0.57979264 0.57288067 0.62573694 0.63102257 0.6361049\n",
            " 0.62776987 0.6269567  0.63590161 0.62594023 0.6391543  0.62614353\n",
            " 0.62268754 0.62001401 0.61194557 0.60529506]\n",
            "3 day output [[0.59852725]]\n",
            "4 day input [0.8072779  0.71843871 0.66192316 0.67696686 0.67554381 0.67310429\n",
            " 0.68428542 0.68936776 0.70217524 0.71803212 0.72941655 0.73144948\n",
            " 0.74486684 0.76926205 0.75991055 0.74242732 0.73958122 0.74771295\n",
            " 0.75991055 0.7584875  0.76621264 0.75462492 0.76316324 0.79670665\n",
            " 0.80585485 0.7889815  0.78003659 0.73978451 0.73002643 0.73490547\n",
            " 0.74872942 0.75991055 0.75462492 0.75401504 0.76174019 0.7737345\n",
            " 0.82008538 0.80585485 0.81154706 0.77434438 0.78633869 0.79284407\n",
            " 0.78328929 0.77109169 0.74385038 0.71193332 0.68733482 0.67818662\n",
            " 0.65257166 0.64301687 0.65643423 0.67656028 0.67371417 0.65114861\n",
            " 0.65521447 0.66761537 0.67838992 0.69993901 0.63122586 0.63508843\n",
            " 0.64098394 0.64545639 0.64118723 0.63854442 0.63081927 0.62472047\n",
            " 0.6330555  0.64728603 0.6574507  0.66761537 0.66720878 0.64159382\n",
            " 0.62776987 0.63651149 0.63630819 0.62980281 0.62817646 0.63813783\n",
            " 0.65358813 0.63183574 0.57653995 0.57816629 0.57613336 0.61943484\n",
            " 0.57979264 0.57288067 0.62573694 0.63102257 0.6361049  0.62776987\n",
            " 0.6269567  0.63590161 0.62594023 0.6391543  0.62614353 0.62268754\n",
            " 0.62001401 0.61194557 0.60529506 0.59852725]\n",
            "4 day output [[0.591791]]\n",
            "5 day input [0.71843871 0.66192316 0.67696686 0.67554381 0.67310429 0.68428542\n",
            " 0.68936776 0.70217524 0.71803212 0.72941655 0.73144948 0.74486684\n",
            " 0.76926205 0.75991055 0.74242732 0.73958122 0.74771295 0.75991055\n",
            " 0.7584875  0.76621264 0.75462492 0.76316324 0.79670665 0.80585485\n",
            " 0.7889815  0.78003659 0.73978451 0.73002643 0.73490547 0.74872942\n",
            " 0.75991055 0.75462492 0.75401504 0.76174019 0.7737345  0.82008538\n",
            " 0.80585485 0.81154706 0.77434438 0.78633869 0.79284407 0.78328929\n",
            " 0.77109169 0.74385038 0.71193332 0.68733482 0.67818662 0.65257166\n",
            " 0.64301687 0.65643423 0.67656028 0.67371417 0.65114861 0.65521447\n",
            " 0.66761537 0.67838992 0.69993901 0.63122586 0.63508843 0.64098394\n",
            " 0.64545639 0.64118723 0.63854442 0.63081927 0.62472047 0.6330555\n",
            " 0.64728603 0.6574507  0.66761537 0.66720878 0.64159382 0.62776987\n",
            " 0.63651149 0.63630819 0.62980281 0.62817646 0.63813783 0.65358813\n",
            " 0.63183574 0.57653995 0.57816629 0.57613336 0.61943484 0.57979264\n",
            " 0.57288067 0.62573694 0.63102257 0.6361049  0.62776987 0.6269567\n",
            " 0.63590161 0.62594023 0.6391543  0.62614353 0.62268754 0.62001401\n",
            " 0.61194557 0.60529506 0.59852725 0.59179097]\n",
            "5 day output [[0.58500373]]\n",
            "6 day input [0.66192316 0.67696686 0.67554381 0.67310429 0.68428542 0.68936776\n",
            " 0.70217524 0.71803212 0.72941655 0.73144948 0.74486684 0.76926205\n",
            " 0.75991055 0.74242732 0.73958122 0.74771295 0.75991055 0.7584875\n",
            " 0.76621264 0.75462492 0.76316324 0.79670665 0.80585485 0.7889815\n",
            " 0.78003659 0.73978451 0.73002643 0.73490547 0.74872942 0.75991055\n",
            " 0.75462492 0.75401504 0.76174019 0.7737345  0.82008538 0.80585485\n",
            " 0.81154706 0.77434438 0.78633869 0.79284407 0.78328929 0.77109169\n",
            " 0.74385038 0.71193332 0.68733482 0.67818662 0.65257166 0.64301687\n",
            " 0.65643423 0.67656028 0.67371417 0.65114861 0.65521447 0.66761537\n",
            " 0.67838992 0.69993901 0.63122586 0.63508843 0.64098394 0.64545639\n",
            " 0.64118723 0.63854442 0.63081927 0.62472047 0.6330555  0.64728603\n",
            " 0.6574507  0.66761537 0.66720878 0.64159382 0.62776987 0.63651149\n",
            " 0.63630819 0.62980281 0.62817646 0.63813783 0.65358813 0.63183574\n",
            " 0.57653995 0.57816629 0.57613336 0.61943484 0.57979264 0.57288067\n",
            " 0.62573694 0.63102257 0.6361049  0.62776987 0.6269567  0.63590161\n",
            " 0.62594023 0.6391543  0.62614353 0.62268754 0.62001401 0.61194557\n",
            " 0.60529506 0.59852725 0.59179097 0.58500373]\n",
            "6 day output [[0.5781537]]\n",
            "7 day input [0.67696686 0.67554381 0.67310429 0.68428542 0.68936776 0.70217524\n",
            " 0.71803212 0.72941655 0.73144948 0.74486684 0.76926205 0.75991055\n",
            " 0.74242732 0.73958122 0.74771295 0.75991055 0.7584875  0.76621264\n",
            " 0.75462492 0.76316324 0.79670665 0.80585485 0.7889815  0.78003659\n",
            " 0.73978451 0.73002643 0.73490547 0.74872942 0.75991055 0.75462492\n",
            " 0.75401504 0.76174019 0.7737345  0.82008538 0.80585485 0.81154706\n",
            " 0.77434438 0.78633869 0.79284407 0.78328929 0.77109169 0.74385038\n",
            " 0.71193332 0.68733482 0.67818662 0.65257166 0.64301687 0.65643423\n",
            " 0.67656028 0.67371417 0.65114861 0.65521447 0.66761537 0.67838992\n",
            " 0.69993901 0.63122586 0.63508843 0.64098394 0.64545639 0.64118723\n",
            " 0.63854442 0.63081927 0.62472047 0.6330555  0.64728603 0.6574507\n",
            " 0.66761537 0.66720878 0.64159382 0.62776987 0.63651149 0.63630819\n",
            " 0.62980281 0.62817646 0.63813783 0.65358813 0.63183574 0.57653995\n",
            " 0.57816629 0.57613336 0.61943484 0.57979264 0.57288067 0.62573694\n",
            " 0.63102257 0.6361049  0.62776987 0.6269567  0.63590161 0.62594023\n",
            " 0.6391543  0.62614353 0.62268754 0.62001401 0.61194557 0.60529506\n",
            " 0.59852725 0.59179097 0.58500373 0.57815373]\n",
            "7 day output [[0.5712569]]\n",
            "8 day input [0.67554381 0.67310429 0.68428542 0.68936776 0.70217524 0.71803212\n",
            " 0.72941655 0.73144948 0.74486684 0.76926205 0.75991055 0.74242732\n",
            " 0.73958122 0.74771295 0.75991055 0.7584875  0.76621264 0.75462492\n",
            " 0.76316324 0.79670665 0.80585485 0.7889815  0.78003659 0.73978451\n",
            " 0.73002643 0.73490547 0.74872942 0.75991055 0.75462492 0.75401504\n",
            " 0.76174019 0.7737345  0.82008538 0.80585485 0.81154706 0.77434438\n",
            " 0.78633869 0.79284407 0.78328929 0.77109169 0.74385038 0.71193332\n",
            " 0.68733482 0.67818662 0.65257166 0.64301687 0.65643423 0.67656028\n",
            " 0.67371417 0.65114861 0.65521447 0.66761537 0.67838992 0.69993901\n",
            " 0.63122586 0.63508843 0.64098394 0.64545639 0.64118723 0.63854442\n",
            " 0.63081927 0.62472047 0.6330555  0.64728603 0.6574507  0.66761537\n",
            " 0.66720878 0.64159382 0.62776987 0.63651149 0.63630819 0.62980281\n",
            " 0.62817646 0.63813783 0.65358813 0.63183574 0.57653995 0.57816629\n",
            " 0.57613336 0.61943484 0.57979264 0.57288067 0.62573694 0.63102257\n",
            " 0.6361049  0.62776987 0.6269567  0.63590161 0.62594023 0.6391543\n",
            " 0.62614353 0.62268754 0.62001401 0.61194557 0.60529506 0.59852725\n",
            " 0.59179097 0.58500373 0.57815373 0.57125688]\n",
            "8 day output [[0.5643297]]\n",
            "9 day input [0.67310429 0.68428542 0.68936776 0.70217524 0.71803212 0.72941655\n",
            " 0.73144948 0.74486684 0.76926205 0.75991055 0.74242732 0.73958122\n",
            " 0.74771295 0.75991055 0.7584875  0.76621264 0.75462492 0.76316324\n",
            " 0.79670665 0.80585485 0.7889815  0.78003659 0.73978451 0.73002643\n",
            " 0.73490547 0.74872942 0.75991055 0.75462492 0.75401504 0.76174019\n",
            " 0.7737345  0.82008538 0.80585485 0.81154706 0.77434438 0.78633869\n",
            " 0.79284407 0.78328929 0.77109169 0.74385038 0.71193332 0.68733482\n",
            " 0.67818662 0.65257166 0.64301687 0.65643423 0.67656028 0.67371417\n",
            " 0.65114861 0.65521447 0.66761537 0.67838992 0.69993901 0.63122586\n",
            " 0.63508843 0.64098394 0.64545639 0.64118723 0.63854442 0.63081927\n",
            " 0.62472047 0.6330555  0.64728603 0.6574507  0.66761537 0.66720878\n",
            " 0.64159382 0.62776987 0.63651149 0.63630819 0.62980281 0.62817646\n",
            " 0.63813783 0.65358813 0.63183574 0.57653995 0.57816629 0.57613336\n",
            " 0.61943484 0.57979264 0.57288067 0.62573694 0.63102257 0.6361049\n",
            " 0.62776987 0.6269567  0.63590161 0.62594023 0.6391543  0.62614353\n",
            " 0.62268754 0.62001401 0.61194557 0.60529506 0.59852725 0.59179097\n",
            " 0.58500373 0.57815373 0.57125688 0.56432968]\n",
            "9 day output [[0.5573812]]\n",
            "10 day input [0.68428542 0.68936776 0.70217524 0.71803212 0.72941655 0.73144948\n",
            " 0.74486684 0.76926205 0.75991055 0.74242732 0.73958122 0.74771295\n",
            " 0.75991055 0.7584875  0.76621264 0.75462492 0.76316324 0.79670665\n",
            " 0.80585485 0.7889815  0.78003659 0.73978451 0.73002643 0.73490547\n",
            " 0.74872942 0.75991055 0.75462492 0.75401504 0.76174019 0.7737345\n",
            " 0.82008538 0.80585485 0.81154706 0.77434438 0.78633869 0.79284407\n",
            " 0.78328929 0.77109169 0.74385038 0.71193332 0.68733482 0.67818662\n",
            " 0.65257166 0.64301687 0.65643423 0.67656028 0.67371417 0.65114861\n",
            " 0.65521447 0.66761537 0.67838992 0.69993901 0.63122586 0.63508843\n",
            " 0.64098394 0.64545639 0.64118723 0.63854442 0.63081927 0.62472047\n",
            " 0.6330555  0.64728603 0.6574507  0.66761537 0.66720878 0.64159382\n",
            " 0.62776987 0.63651149 0.63630819 0.62980281 0.62817646 0.63813783\n",
            " 0.65358813 0.63183574 0.57653995 0.57816629 0.57613336 0.61943484\n",
            " 0.57979264 0.57288067 0.62573694 0.63102257 0.6361049  0.62776987\n",
            " 0.6269567  0.63590161 0.62594023 0.6391543  0.62614353 0.62268754\n",
            " 0.62001401 0.61194557 0.60529506 0.59852725 0.59179097 0.58500373\n",
            " 0.57815373 0.57125688 0.56432968 0.55738121]\n",
            "10 day output [[0.55041456]]\n",
            "11 day input [0.68936776 0.70217524 0.71803212 0.72941655 0.73144948 0.74486684\n",
            " 0.76926205 0.75991055 0.74242732 0.73958122 0.74771295 0.75991055\n",
            " 0.7584875  0.76621264 0.75462492 0.76316324 0.79670665 0.80585485\n",
            " 0.7889815  0.78003659 0.73978451 0.73002643 0.73490547 0.74872942\n",
            " 0.75991055 0.75462492 0.75401504 0.76174019 0.7737345  0.82008538\n",
            " 0.80585485 0.81154706 0.77434438 0.78633869 0.79284407 0.78328929\n",
            " 0.77109169 0.74385038 0.71193332 0.68733482 0.67818662 0.65257166\n",
            " 0.64301687 0.65643423 0.67656028 0.67371417 0.65114861 0.65521447\n",
            " 0.66761537 0.67838992 0.69993901 0.63122586 0.63508843 0.64098394\n",
            " 0.64545639 0.64118723 0.63854442 0.63081927 0.62472047 0.6330555\n",
            " 0.64728603 0.6574507  0.66761537 0.66720878 0.64159382 0.62776987\n",
            " 0.63651149 0.63630819 0.62980281 0.62817646 0.63813783 0.65358813\n",
            " 0.63183574 0.57653995 0.57816629 0.57613336 0.61943484 0.57979264\n",
            " 0.57288067 0.62573694 0.63102257 0.6361049  0.62776987 0.6269567\n",
            " 0.63590161 0.62594023 0.6391543  0.62614353 0.62268754 0.62001401\n",
            " 0.61194557 0.60529506 0.59852725 0.59179097 0.58500373 0.57815373\n",
            " 0.57125688 0.56432968 0.55738121 0.55041456]\n",
            "11 day output [[0.54343295]]\n",
            "12 day input [0.70217524 0.71803212 0.72941655 0.73144948 0.74486684 0.76926205\n",
            " 0.75991055 0.74242732 0.73958122 0.74771295 0.75991055 0.7584875\n",
            " 0.76621264 0.75462492 0.76316324 0.79670665 0.80585485 0.7889815\n",
            " 0.78003659 0.73978451 0.73002643 0.73490547 0.74872942 0.75991055\n",
            " 0.75462492 0.75401504 0.76174019 0.7737345  0.82008538 0.80585485\n",
            " 0.81154706 0.77434438 0.78633869 0.79284407 0.78328929 0.77109169\n",
            " 0.74385038 0.71193332 0.68733482 0.67818662 0.65257166 0.64301687\n",
            " 0.65643423 0.67656028 0.67371417 0.65114861 0.65521447 0.66761537\n",
            " 0.67838992 0.69993901 0.63122586 0.63508843 0.64098394 0.64545639\n",
            " 0.64118723 0.63854442 0.63081927 0.62472047 0.6330555  0.64728603\n",
            " 0.6574507  0.66761537 0.66720878 0.64159382 0.62776987 0.63651149\n",
            " 0.63630819 0.62980281 0.62817646 0.63813783 0.65358813 0.63183574\n",
            " 0.57653995 0.57816629 0.57613336 0.61943484 0.57979264 0.57288067\n",
            " 0.62573694 0.63102257 0.6361049  0.62776987 0.6269567  0.63590161\n",
            " 0.62594023 0.6391543  0.62614353 0.62268754 0.62001401 0.61194557\n",
            " 0.60529506 0.59852725 0.59179097 0.58500373 0.57815373 0.57125688\n",
            " 0.56432968 0.55738121 0.55041456 0.54343295]\n",
            "12 day output [[0.53644234]]\n",
            "13 day input [0.71803212 0.72941655 0.73144948 0.74486684 0.76926205 0.75991055\n",
            " 0.74242732 0.73958122 0.74771295 0.75991055 0.7584875  0.76621264\n",
            " 0.75462492 0.76316324 0.79670665 0.80585485 0.7889815  0.78003659\n",
            " 0.73978451 0.73002643 0.73490547 0.74872942 0.75991055 0.75462492\n",
            " 0.75401504 0.76174019 0.7737345  0.82008538 0.80585485 0.81154706\n",
            " 0.77434438 0.78633869 0.79284407 0.78328929 0.77109169 0.74385038\n",
            " 0.71193332 0.68733482 0.67818662 0.65257166 0.64301687 0.65643423\n",
            " 0.67656028 0.67371417 0.65114861 0.65521447 0.66761537 0.67838992\n",
            " 0.69993901 0.63122586 0.63508843 0.64098394 0.64545639 0.64118723\n",
            " 0.63854442 0.63081927 0.62472047 0.6330555  0.64728603 0.6574507\n",
            " 0.66761537 0.66720878 0.64159382 0.62776987 0.63651149 0.63630819\n",
            " 0.62980281 0.62817646 0.63813783 0.65358813 0.63183574 0.57653995\n",
            " 0.57816629 0.57613336 0.61943484 0.57979264 0.57288067 0.62573694\n",
            " 0.63102257 0.6361049  0.62776987 0.6269567  0.63590161 0.62594023\n",
            " 0.6391543  0.62614353 0.62268754 0.62001401 0.61194557 0.60529506\n",
            " 0.59852725 0.59179097 0.58500373 0.57815373 0.57125688 0.56432968\n",
            " 0.55738121 0.55041456 0.54343295 0.53644234]\n",
            "13 day output [[0.5294534]]\n",
            "14 day input [0.72941655 0.73144948 0.74486684 0.76926205 0.75991055 0.74242732\n",
            " 0.73958122 0.74771295 0.75991055 0.7584875  0.76621264 0.75462492\n",
            " 0.76316324 0.79670665 0.80585485 0.7889815  0.78003659 0.73978451\n",
            " 0.73002643 0.73490547 0.74872942 0.75991055 0.75462492 0.75401504\n",
            " 0.76174019 0.7737345  0.82008538 0.80585485 0.81154706 0.77434438\n",
            " 0.78633869 0.79284407 0.78328929 0.77109169 0.74385038 0.71193332\n",
            " 0.68733482 0.67818662 0.65257166 0.64301687 0.65643423 0.67656028\n",
            " 0.67371417 0.65114861 0.65521447 0.66761537 0.67838992 0.69993901\n",
            " 0.63122586 0.63508843 0.64098394 0.64545639 0.64118723 0.63854442\n",
            " 0.63081927 0.62472047 0.6330555  0.64728603 0.6574507  0.66761537\n",
            " 0.66720878 0.64159382 0.62776987 0.63651149 0.63630819 0.62980281\n",
            " 0.62817646 0.63813783 0.65358813 0.63183574 0.57653995 0.57816629\n",
            " 0.57613336 0.61943484 0.57979264 0.57288067 0.62573694 0.63102257\n",
            " 0.6361049  0.62776987 0.6269567  0.63590161 0.62594023 0.6391543\n",
            " 0.62614353 0.62268754 0.62001401 0.61194557 0.60529506 0.59852725\n",
            " 0.59179097 0.58500373 0.57815373 0.57125688 0.56432968 0.55738121\n",
            " 0.55041456 0.54343295 0.53644234 0.5294534 ]\n",
            "14 day output [[0.5224804]]\n",
            "15 day input [0.73144948 0.74486684 0.76926205 0.75991055 0.74242732 0.73958122\n",
            " 0.74771295 0.75991055 0.7584875  0.76621264 0.75462492 0.76316324\n",
            " 0.79670665 0.80585485 0.7889815  0.78003659 0.73978451 0.73002643\n",
            " 0.73490547 0.74872942 0.75991055 0.75462492 0.75401504 0.76174019\n",
            " 0.7737345  0.82008538 0.80585485 0.81154706 0.77434438 0.78633869\n",
            " 0.79284407 0.78328929 0.77109169 0.74385038 0.71193332 0.68733482\n",
            " 0.67818662 0.65257166 0.64301687 0.65643423 0.67656028 0.67371417\n",
            " 0.65114861 0.65521447 0.66761537 0.67838992 0.69993901 0.63122586\n",
            " 0.63508843 0.64098394 0.64545639 0.64118723 0.63854442 0.63081927\n",
            " 0.62472047 0.6330555  0.64728603 0.6574507  0.66761537 0.66720878\n",
            " 0.64159382 0.62776987 0.63651149 0.63630819 0.62980281 0.62817646\n",
            " 0.63813783 0.65358813 0.63183574 0.57653995 0.57816629 0.57613336\n",
            " 0.61943484 0.57979264 0.57288067 0.62573694 0.63102257 0.6361049\n",
            " 0.62776987 0.6269567  0.63590161 0.62594023 0.6391543  0.62614353\n",
            " 0.62268754 0.62001401 0.61194557 0.60529506 0.59852725 0.59179097\n",
            " 0.58500373 0.57815373 0.57125688 0.56432968 0.55738121 0.55041456\n",
            " 0.54343295 0.53644234 0.5294534  0.52248043]\n",
            "15 day output [[0.51554096]]\n",
            "16 day input [0.74486684 0.76926205 0.75991055 0.74242732 0.73958122 0.74771295\n",
            " 0.75991055 0.7584875  0.76621264 0.75462492 0.76316324 0.79670665\n",
            " 0.80585485 0.7889815  0.78003659 0.73978451 0.73002643 0.73490547\n",
            " 0.74872942 0.75991055 0.75462492 0.75401504 0.76174019 0.7737345\n",
            " 0.82008538 0.80585485 0.81154706 0.77434438 0.78633869 0.79284407\n",
            " 0.78328929 0.77109169 0.74385038 0.71193332 0.68733482 0.67818662\n",
            " 0.65257166 0.64301687 0.65643423 0.67656028 0.67371417 0.65114861\n",
            " 0.65521447 0.66761537 0.67838992 0.69993901 0.63122586 0.63508843\n",
            " 0.64098394 0.64545639 0.64118723 0.63854442 0.63081927 0.62472047\n",
            " 0.6330555  0.64728603 0.6574507  0.66761537 0.66720878 0.64159382\n",
            " 0.62776987 0.63651149 0.63630819 0.62980281 0.62817646 0.63813783\n",
            " 0.65358813 0.63183574 0.57653995 0.57816629 0.57613336 0.61943484\n",
            " 0.57979264 0.57288067 0.62573694 0.63102257 0.6361049  0.62776987\n",
            " 0.6269567  0.63590161 0.62594023 0.6391543  0.62614353 0.62268754\n",
            " 0.62001401 0.61194557 0.60529506 0.59852725 0.59179097 0.58500373\n",
            " 0.57815373 0.57125688 0.56432968 0.55738121 0.55041456 0.54343295\n",
            " 0.53644234 0.5294534  0.52248043 0.51554096]\n",
            "16 day output [[0.5086541]]\n",
            "17 day input [0.76926205 0.75991055 0.74242732 0.73958122 0.74771295 0.75991055\n",
            " 0.7584875  0.76621264 0.75462492 0.76316324 0.79670665 0.80585485\n",
            " 0.7889815  0.78003659 0.73978451 0.73002643 0.73490547 0.74872942\n",
            " 0.75991055 0.75462492 0.75401504 0.76174019 0.7737345  0.82008538\n",
            " 0.80585485 0.81154706 0.77434438 0.78633869 0.79284407 0.78328929\n",
            " 0.77109169 0.74385038 0.71193332 0.68733482 0.67818662 0.65257166\n",
            " 0.64301687 0.65643423 0.67656028 0.67371417 0.65114861 0.65521447\n",
            " 0.66761537 0.67838992 0.69993901 0.63122586 0.63508843 0.64098394\n",
            " 0.64545639 0.64118723 0.63854442 0.63081927 0.62472047 0.6330555\n",
            " 0.64728603 0.6574507  0.66761537 0.66720878 0.64159382 0.62776987\n",
            " 0.63651149 0.63630819 0.62980281 0.62817646 0.63813783 0.65358813\n",
            " 0.63183574 0.57653995 0.57816629 0.57613336 0.61943484 0.57979264\n",
            " 0.57288067 0.62573694 0.63102257 0.6361049  0.62776987 0.6269567\n",
            " 0.63590161 0.62594023 0.6391543  0.62614353 0.62268754 0.62001401\n",
            " 0.61194557 0.60529506 0.59852725 0.59179097 0.58500373 0.57815373\n",
            " 0.57125688 0.56432968 0.55738121 0.55041456 0.54343295 0.53644234\n",
            " 0.5294534  0.52248043 0.51554096 0.50865412]\n",
            "17 day output [[0.5018409]]\n",
            "18 day input [0.75991055 0.74242732 0.73958122 0.74771295 0.75991055 0.7584875\n",
            " 0.76621264 0.75462492 0.76316324 0.79670665 0.80585485 0.7889815\n",
            " 0.78003659 0.73978451 0.73002643 0.73490547 0.74872942 0.75991055\n",
            " 0.75462492 0.75401504 0.76174019 0.7737345  0.82008538 0.80585485\n",
            " 0.81154706 0.77434438 0.78633869 0.79284407 0.78328929 0.77109169\n",
            " 0.74385038 0.71193332 0.68733482 0.67818662 0.65257166 0.64301687\n",
            " 0.65643423 0.67656028 0.67371417 0.65114861 0.65521447 0.66761537\n",
            " 0.67838992 0.69993901 0.63122586 0.63508843 0.64098394 0.64545639\n",
            " 0.64118723 0.63854442 0.63081927 0.62472047 0.6330555  0.64728603\n",
            " 0.6574507  0.66761537 0.66720878 0.64159382 0.62776987 0.63651149\n",
            " 0.63630819 0.62980281 0.62817646 0.63813783 0.65358813 0.63183574\n",
            " 0.57653995 0.57816629 0.57613336 0.61943484 0.57979264 0.57288067\n",
            " 0.62573694 0.63102257 0.6361049  0.62776987 0.6269567  0.63590161\n",
            " 0.62594023 0.6391543  0.62614353 0.62268754 0.62001401 0.61194557\n",
            " 0.60529506 0.59852725 0.59179097 0.58500373 0.57815373 0.57125688\n",
            " 0.56432968 0.55738121 0.55041456 0.54343295 0.53644234 0.5294534\n",
            " 0.52248043 0.51554096 0.50865412 0.50184089]\n",
            "18 day output [[0.4951221]]\n",
            "19 day input [0.74242732 0.73958122 0.74771295 0.75991055 0.7584875  0.76621264\n",
            " 0.75462492 0.76316324 0.79670665 0.80585485 0.7889815  0.78003659\n",
            " 0.73978451 0.73002643 0.73490547 0.74872942 0.75991055 0.75462492\n",
            " 0.75401504 0.76174019 0.7737345  0.82008538 0.80585485 0.81154706\n",
            " 0.77434438 0.78633869 0.79284407 0.78328929 0.77109169 0.74385038\n",
            " 0.71193332 0.68733482 0.67818662 0.65257166 0.64301687 0.65643423\n",
            " 0.67656028 0.67371417 0.65114861 0.65521447 0.66761537 0.67838992\n",
            " 0.69993901 0.63122586 0.63508843 0.64098394 0.64545639 0.64118723\n",
            " 0.63854442 0.63081927 0.62472047 0.6330555  0.64728603 0.6574507\n",
            " 0.66761537 0.66720878 0.64159382 0.62776987 0.63651149 0.63630819\n",
            " 0.62980281 0.62817646 0.63813783 0.65358813 0.63183574 0.57653995\n",
            " 0.57816629 0.57613336 0.61943484 0.57979264 0.57288067 0.62573694\n",
            " 0.63102257 0.6361049  0.62776987 0.6269567  0.63590161 0.62594023\n",
            " 0.6391543  0.62614353 0.62268754 0.62001401 0.61194557 0.60529506\n",
            " 0.59852725 0.59179097 0.58500373 0.57815373 0.57125688 0.56432968\n",
            " 0.55738121 0.55041456 0.54343295 0.53644234 0.5294534  0.52248043\n",
            " 0.51554096 0.50865412 0.50184089 0.4951221 ]\n",
            "19 day output [[0.48851886]]\n",
            "20 day input [0.73958122 0.74771295 0.75991055 0.7584875  0.76621264 0.75462492\n",
            " 0.76316324 0.79670665 0.80585485 0.7889815  0.78003659 0.73978451\n",
            " 0.73002643 0.73490547 0.74872942 0.75991055 0.75462492 0.75401504\n",
            " 0.76174019 0.7737345  0.82008538 0.80585485 0.81154706 0.77434438\n",
            " 0.78633869 0.79284407 0.78328929 0.77109169 0.74385038 0.71193332\n",
            " 0.68733482 0.67818662 0.65257166 0.64301687 0.65643423 0.67656028\n",
            " 0.67371417 0.65114861 0.65521447 0.66761537 0.67838992 0.69993901\n",
            " 0.63122586 0.63508843 0.64098394 0.64545639 0.64118723 0.63854442\n",
            " 0.63081927 0.62472047 0.6330555  0.64728603 0.6574507  0.66761537\n",
            " 0.66720878 0.64159382 0.62776987 0.63651149 0.63630819 0.62980281\n",
            " 0.62817646 0.63813783 0.65358813 0.63183574 0.57653995 0.57816629\n",
            " 0.57613336 0.61943484 0.57979264 0.57288067 0.62573694 0.63102257\n",
            " 0.6361049  0.62776987 0.6269567  0.63590161 0.62594023 0.6391543\n",
            " 0.62614353 0.62268754 0.62001401 0.61194557 0.60529506 0.59852725\n",
            " 0.59179097 0.58500373 0.57815373 0.57125688 0.56432968 0.55738121\n",
            " 0.55041456 0.54343295 0.53644234 0.5294534  0.52248043 0.51554096\n",
            " 0.50865412 0.50184089 0.4951221  0.48851886]\n",
            "20 day output [[0.48205158]]\n",
            "21 day input [0.74771295 0.75991055 0.7584875  0.76621264 0.75462492 0.76316324\n",
            " 0.79670665 0.80585485 0.7889815  0.78003659 0.73978451 0.73002643\n",
            " 0.73490547 0.74872942 0.75991055 0.75462492 0.75401504 0.76174019\n",
            " 0.7737345  0.82008538 0.80585485 0.81154706 0.77434438 0.78633869\n",
            " 0.79284407 0.78328929 0.77109169 0.74385038 0.71193332 0.68733482\n",
            " 0.67818662 0.65257166 0.64301687 0.65643423 0.67656028 0.67371417\n",
            " 0.65114861 0.65521447 0.66761537 0.67838992 0.69993901 0.63122586\n",
            " 0.63508843 0.64098394 0.64545639 0.64118723 0.63854442 0.63081927\n",
            " 0.62472047 0.6330555  0.64728603 0.6574507  0.66761537 0.66720878\n",
            " 0.64159382 0.62776987 0.63651149 0.63630819 0.62980281 0.62817646\n",
            " 0.63813783 0.65358813 0.63183574 0.57653995 0.57816629 0.57613336\n",
            " 0.61943484 0.57979264 0.57288067 0.62573694 0.63102257 0.6361049\n",
            " 0.62776987 0.6269567  0.63590161 0.62594023 0.6391543  0.62614353\n",
            " 0.62268754 0.62001401 0.61194557 0.60529506 0.59852725 0.59179097\n",
            " 0.58500373 0.57815373 0.57125688 0.56432968 0.55738121 0.55041456\n",
            " 0.54343295 0.53644234 0.5294534  0.52248043 0.51554096 0.50865412\n",
            " 0.50184089 0.4951221  0.48851886 0.48205158]\n",
            "21 day output [[0.4757398]]\n",
            "22 day input [0.75991055 0.7584875  0.76621264 0.75462492 0.76316324 0.79670665\n",
            " 0.80585485 0.7889815  0.78003659 0.73978451 0.73002643 0.73490547\n",
            " 0.74872942 0.75991055 0.75462492 0.75401504 0.76174019 0.7737345\n",
            " 0.82008538 0.80585485 0.81154706 0.77434438 0.78633869 0.79284407\n",
            " 0.78328929 0.77109169 0.74385038 0.71193332 0.68733482 0.67818662\n",
            " 0.65257166 0.64301687 0.65643423 0.67656028 0.67371417 0.65114861\n",
            " 0.65521447 0.66761537 0.67838992 0.69993901 0.63122586 0.63508843\n",
            " 0.64098394 0.64545639 0.64118723 0.63854442 0.63081927 0.62472047\n",
            " 0.6330555  0.64728603 0.6574507  0.66761537 0.66720878 0.64159382\n",
            " 0.62776987 0.63651149 0.63630819 0.62980281 0.62817646 0.63813783\n",
            " 0.65358813 0.63183574 0.57653995 0.57816629 0.57613336 0.61943484\n",
            " 0.57979264 0.57288067 0.62573694 0.63102257 0.6361049  0.62776987\n",
            " 0.6269567  0.63590161 0.62594023 0.6391543  0.62614353 0.62268754\n",
            " 0.62001401 0.61194557 0.60529506 0.59852725 0.59179097 0.58500373\n",
            " 0.57815373 0.57125688 0.56432968 0.55738121 0.55041456 0.54343295\n",
            " 0.53644234 0.5294534  0.52248043 0.51554096 0.50865412 0.50184089\n",
            " 0.4951221  0.48851886 0.48205158 0.47573981]\n",
            "22 day output [[0.4696016]]\n",
            "23 day input [0.7584875  0.76621264 0.75462492 0.76316324 0.79670665 0.80585485\n",
            " 0.7889815  0.78003659 0.73978451 0.73002643 0.73490547 0.74872942\n",
            " 0.75991055 0.75462492 0.75401504 0.76174019 0.7737345  0.82008538\n",
            " 0.80585485 0.81154706 0.77434438 0.78633869 0.79284407 0.78328929\n",
            " 0.77109169 0.74385038 0.71193332 0.68733482 0.67818662 0.65257166\n",
            " 0.64301687 0.65643423 0.67656028 0.67371417 0.65114861 0.65521447\n",
            " 0.66761537 0.67838992 0.69993901 0.63122586 0.63508843 0.64098394\n",
            " 0.64545639 0.64118723 0.63854442 0.63081927 0.62472047 0.6330555\n",
            " 0.64728603 0.6574507  0.66761537 0.66720878 0.64159382 0.62776987\n",
            " 0.63651149 0.63630819 0.62980281 0.62817646 0.63813783 0.65358813\n",
            " 0.63183574 0.57653995 0.57816629 0.57613336 0.61943484 0.57979264\n",
            " 0.57288067 0.62573694 0.63102257 0.6361049  0.62776987 0.6269567\n",
            " 0.63590161 0.62594023 0.6391543  0.62614353 0.62268754 0.62001401\n",
            " 0.61194557 0.60529506 0.59852725 0.59179097 0.58500373 0.57815373\n",
            " 0.57125688 0.56432968 0.55738121 0.55041456 0.54343295 0.53644234\n",
            " 0.5294534  0.52248043 0.51554096 0.50865412 0.50184089 0.4951221\n",
            " 0.48851886 0.48205158 0.47573981 0.4696016 ]\n",
            "23 day output [[0.46365324]]\n",
            "24 day input [0.76621264 0.75462492 0.76316324 0.79670665 0.80585485 0.7889815\n",
            " 0.78003659 0.73978451 0.73002643 0.73490547 0.74872942 0.75991055\n",
            " 0.75462492 0.75401504 0.76174019 0.7737345  0.82008538 0.80585485\n",
            " 0.81154706 0.77434438 0.78633869 0.79284407 0.78328929 0.77109169\n",
            " 0.74385038 0.71193332 0.68733482 0.67818662 0.65257166 0.64301687\n",
            " 0.65643423 0.67656028 0.67371417 0.65114861 0.65521447 0.66761537\n",
            " 0.67838992 0.69993901 0.63122586 0.63508843 0.64098394 0.64545639\n",
            " 0.64118723 0.63854442 0.63081927 0.62472047 0.6330555  0.64728603\n",
            " 0.6574507  0.66761537 0.66720878 0.64159382 0.62776987 0.63651149\n",
            " 0.63630819 0.62980281 0.62817646 0.63813783 0.65358813 0.63183574\n",
            " 0.57653995 0.57816629 0.57613336 0.61943484 0.57979264 0.57288067\n",
            " 0.62573694 0.63102257 0.6361049  0.62776987 0.6269567  0.63590161\n",
            " 0.62594023 0.6391543  0.62614353 0.62268754 0.62001401 0.61194557\n",
            " 0.60529506 0.59852725 0.59179097 0.58500373 0.57815373 0.57125688\n",
            " 0.56432968 0.55738121 0.55041456 0.54343295 0.53644234 0.5294534\n",
            " 0.52248043 0.51554096 0.50865412 0.50184089 0.4951221  0.48851886\n",
            " 0.48205158 0.47573981 0.4696016  0.46365324]\n",
            "24 day output [[0.45769587]]\n",
            "25 day input [0.75462492 0.76316324 0.79670665 0.80585485 0.7889815  0.78003659\n",
            " 0.73978451 0.73002643 0.73490547 0.74872942 0.75991055 0.75462492\n",
            " 0.75401504 0.76174019 0.7737345  0.82008538 0.80585485 0.81154706\n",
            " 0.77434438 0.78633869 0.79284407 0.78328929 0.77109169 0.74385038\n",
            " 0.71193332 0.68733482 0.67818662 0.65257166 0.64301687 0.65643423\n",
            " 0.67656028 0.67371417 0.65114861 0.65521447 0.66761537 0.67838992\n",
            " 0.69993901 0.63122586 0.63508843 0.64098394 0.64545639 0.64118723\n",
            " 0.63854442 0.63081927 0.62472047 0.6330555  0.64728603 0.6574507\n",
            " 0.66761537 0.66720878 0.64159382 0.62776987 0.63651149 0.63630819\n",
            " 0.62980281 0.62817646 0.63813783 0.65358813 0.63183574 0.57653995\n",
            " 0.57816629 0.57613336 0.61943484 0.57979264 0.57288067 0.62573694\n",
            " 0.63102257 0.6361049  0.62776987 0.6269567  0.63590161 0.62594023\n",
            " 0.6391543  0.62614353 0.62268754 0.62001401 0.61194557 0.60529506\n",
            " 0.59852725 0.59179097 0.58500373 0.57815373 0.57125688 0.56432968\n",
            " 0.55738121 0.55041456 0.54343295 0.53644234 0.5294534  0.52248043\n",
            " 0.51554096 0.50865412 0.50184089 0.4951221  0.48851886 0.48205158\n",
            " 0.47573981 0.4696016  0.46365324 0.45769587]\n",
            "25 day output [[0.45133254]]\n",
            "26 day input [0.76316324 0.79670665 0.80585485 0.7889815  0.78003659 0.73978451\n",
            " 0.73002643 0.73490547 0.74872942 0.75991055 0.75462492 0.75401504\n",
            " 0.76174019 0.7737345  0.82008538 0.80585485 0.81154706 0.77434438\n",
            " 0.78633869 0.79284407 0.78328929 0.77109169 0.74385038 0.71193332\n",
            " 0.68733482 0.67818662 0.65257166 0.64301687 0.65643423 0.67656028\n",
            " 0.67371417 0.65114861 0.65521447 0.66761537 0.67838992 0.69993901\n",
            " 0.63122586 0.63508843 0.64098394 0.64545639 0.64118723 0.63854442\n",
            " 0.63081927 0.62472047 0.6330555  0.64728603 0.6574507  0.66761537\n",
            " 0.66720878 0.64159382 0.62776987 0.63651149 0.63630819 0.62980281\n",
            " 0.62817646 0.63813783 0.65358813 0.63183574 0.57653995 0.57816629\n",
            " 0.57613336 0.61943484 0.57979264 0.57288067 0.62573694 0.63102257\n",
            " 0.6361049  0.62776987 0.6269567  0.63590161 0.62594023 0.6391543\n",
            " 0.62614353 0.62268754 0.62001401 0.61194557 0.60529506 0.59852725\n",
            " 0.59179097 0.58500373 0.57815373 0.57125688 0.56432968 0.55738121\n",
            " 0.55041456 0.54343295 0.53644234 0.5294534  0.52248043 0.51554096\n",
            " 0.50865412 0.50184089 0.4951221  0.48851886 0.48205158 0.47573981\n",
            " 0.4696016  0.46365324 0.45769587 0.45133254]\n",
            "26 day output [[0.44539592]]\n",
            "27 day input [0.79670665 0.80585485 0.7889815  0.78003659 0.73978451 0.73002643\n",
            " 0.73490547 0.74872942 0.75991055 0.75462492 0.75401504 0.76174019\n",
            " 0.7737345  0.82008538 0.80585485 0.81154706 0.77434438 0.78633869\n",
            " 0.79284407 0.78328929 0.77109169 0.74385038 0.71193332 0.68733482\n",
            " 0.67818662 0.65257166 0.64301687 0.65643423 0.67656028 0.67371417\n",
            " 0.65114861 0.65521447 0.66761537 0.67838992 0.69993901 0.63122586\n",
            " 0.63508843 0.64098394 0.64545639 0.64118723 0.63854442 0.63081927\n",
            " 0.62472047 0.6330555  0.64728603 0.6574507  0.66761537 0.66720878\n",
            " 0.64159382 0.62776987 0.63651149 0.63630819 0.62980281 0.62817646\n",
            " 0.63813783 0.65358813 0.63183574 0.57653995 0.57816629 0.57613336\n",
            " 0.61943484 0.57979264 0.57288067 0.62573694 0.63102257 0.6361049\n",
            " 0.62776987 0.6269567  0.63590161 0.62594023 0.6391543  0.62614353\n",
            " 0.62268754 0.62001401 0.61194557 0.60529506 0.59852725 0.59179097\n",
            " 0.58500373 0.57815373 0.57125688 0.56432968 0.55738121 0.55041456\n",
            " 0.54343295 0.53644234 0.5294534  0.52248043 0.51554096 0.50865412\n",
            " 0.50184089 0.4951221  0.48851886 0.48205158 0.47573981 0.4696016\n",
            " 0.46365324 0.45769587 0.45133254 0.44539592]\n",
            "27 day output [[0.44023582]]\n",
            "[[0.6200140118598938], [0.6119455695152283], [0.6052950620651245], [0.5985272526741028], [0.5917909741401672], [0.5850037336349487], [0.5781537294387817], [0.5712568759918213], [0.5643296837806702], [0.5573812127113342], [0.5504145622253418], [0.5434329509735107], [0.5364423394203186], [0.5294533967971802], [0.5224804282188416], [0.5155409574508667], [0.5086541175842285], [0.5018408894538879], [0.49512210488319397], [0.4885188639163971], [0.4820515811443329], [0.47573980689048767], [0.4696016013622284], [0.46365323662757874], [0.457695871591568], [0.45133253931999207], [0.44539591670036316], [0.44023582339286804]]\n"
          ]
        }
      ]
    },
    {
      "cell_type": "code",
      "source": [
        "day_new = np.arange(1,101)\n",
        "day_pred = np.arange(101,129)"
      ],
      "metadata": {
        "id": "_DqzngR5bItr"
      },
      "execution_count": 32,
      "outputs": []
    },
    {
      "cell_type": "code",
      "source": [
        "day_new.shape"
      ],
      "metadata": {
        "colab": {
          "base_uri": "https://localhost:8080/"
        },
        "id": "F_inkSTPbQhp",
        "outputId": "3a23f088-9ecb-4608-978b-e4af2a2bc236"
      },
      "execution_count": 33,
      "outputs": [
        {
          "output_type": "execute_result",
          "data": {
            "text/plain": [
              "(100,)"
            ]
          },
          "metadata": {},
          "execution_count": 33
        }
      ]
    },
    {
      "cell_type": "code",
      "source": [
        "day_pred.shape"
      ],
      "metadata": {
        "colab": {
          "base_uri": "https://localhost:8080/"
        },
        "id": "0leGuOmQbQ-L",
        "outputId": "a8c034bc-5b2c-451a-87ae-2c7781219804"
      },
      "execution_count": 34,
      "outputs": [
        {
          "output_type": "execute_result",
          "data": {
            "text/plain": [
              "(28,)"
            ]
          },
          "metadata": {},
          "execution_count": 34
        }
      ]
    },
    {
      "cell_type": "code",
      "source": [
        "df3 = df_high.tolist()\n",
        "df3.extend(lst_output)"
      ],
      "metadata": {
        "id": "yb2YqulLbRaQ"
      },
      "execution_count": 35,
      "outputs": []
    },
    {
      "cell_type": "code",
      "source": [
        "len(df_high)"
      ],
      "metadata": {
        "colab": {
          "base_uri": "https://localhost:8080/"
        },
        "id": "AA6MdOQBbUvd",
        "outputId": "b2823a36-2bc1-466e-be81-9bbabcc82be4"
      },
      "execution_count": 36,
      "outputs": [
        {
          "output_type": "execute_result",
          "data": {
            "text/plain": [
              "2035"
            ]
          },
          "metadata": {},
          "execution_count": 36
        }
      ]
    },
    {
      "cell_type": "code",
      "source": [
        "plt.plot(day_new, scaler.inverse_transform(df_high[1935:]))\n",
        "plt.plot(day_pred, scaler.inverse_transform(lst_output))"
      ],
      "metadata": {
        "colab": {
          "base_uri": "https://localhost:8080/",
          "height": 284
        },
        "id": "4pT_bR3pbY_g",
        "outputId": "a9804df4-192a-4dcb-8d8b-939425d06daf"
      },
      "execution_count": 37,
      "outputs": [
        {
          "output_type": "execute_result",
          "data": {
            "text/plain": [
              "[<matplotlib.lines.Line2D at 0x7fea0bb33a90>]"
            ]
          },
          "metadata": {},
          "execution_count": 37
        },
        {
          "output_type": "display_data",
          "data": {
            "text/plain": [
              "<Figure size 432x288 with 1 Axes>"
            ],
            "image/png": "[encoded data removed]"
          },
          "metadata": {
            "needs_background": "light"
          }
        }
      ]
    },
    {
      "cell_type": "code",
      "source": [
        "df3=df_high.tolist()\n",
        "df3.extend(lst_output)\n",
        "plt.plot(df3[2000:])"
      ],
      "metadata": {
        "colab": {
          "base_uri": "https://localhost:8080/",
          "height": 282
        },
        "id": "iYzvR6a1bZeL",
        "outputId": "d65b3578-99c9-4e66-a4e7-cdf6410c10c5"
      },
      "execution_count": 38,
      "outputs": [
        {
          "output_type": "execute_result",
          "data": {
            "text/plain": [
              "[<matplotlib.lines.Line2D at 0x7fea0bb483d0>]"
            ]
          },
          "metadata": {},
          "execution_count": 38
        },
        {
          "output_type": "display_data",
          "data": {
            "text/plain": [
              "<Figure size 432x288 with 1 Axes>"
            ],
            "image/png": "[encoded data removed]"
          },
          "metadata": {
            "needs_background": "light"
          }
        }
      ]
    },
    {
      "cell_type": "code",
      "source": [
        "df3=scaler.inverse_transform(df3).tolist()\n"
      ],
      "metadata": {
        "id": "787G6mqKbZ2O"
      },
      "execution_count": 39,
      "outputs": []
    },
    {
      "cell_type": "code",
      "source": [
        "plt.plot(df3)"
      ],
      "metadata": {
        "colab": {
          "base_uri": "https://localhost:8080/",
          "height": 282
        },
        "id": "bkymxNcobaf_",
        "outputId": "0c6ca2e1-9b95-4744-b371-595810638968"
      },
      "execution_count": 40,
      "outputs": [
        {
          "output_type": "execute_result",
          "data": {
            "text/plain": [
              "[<matplotlib.lines.Line2D at 0x7fea0bb8c810>]"
            ]
          },
          "metadata": {},
          "execution_count": 40
        },
        {
          "output_type": "display_data",
          "data": {
            "text/plain": [
              "<Figure size 432x288 with 1 Axes>"
            ],
            "image/png": "[encoded data removed]"
          },
          "metadata": {
            "needs_background": "light"
          }
        }
      ]
    }
  ]
}